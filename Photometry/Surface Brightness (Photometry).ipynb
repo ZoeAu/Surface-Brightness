{
 "cells": [
  {
   "cell_type": "code",
   "execution_count": null,
   "metadata": {
    "collapsed": true
   },
   "outputs": [],
   "source": [
    "#We define initial parameters\n",
    "%matplotlib inline\n",
    "\n",
    "region_file=\"observed_target_info.reg\"\n",
    "\n",
    "output_file=\"output FUV.csv\"\n",
    "\n",
    "fits_directory=\".\" #The directory to look for .fits files in   \n",
    "\n",
    "file_key=\"fd-int\" #a string located in all the files you want to analyze in fits_directory\n",
    "\n",
    "flux_conv = 2.06*(10**(-16)) \n",
    "        # A conversion factor from pixel count to flux in units of (erg cm-2 Å-1)/(N/s)\n",
    "        #NUV: Flux = 2.06*10**(-16) x CPS, FUV: Flux = 1.40*10**(-15) x CPS\n",
    "        #Reference: http://asd.gsfc.nasa.gov/archive/galex/FAQ/counts_background.html\n",
    "\n",
    "flux_conv_err = 0 #error in flux_conv\n",
    "    \n",
    "pixel_area=(1.5/60)**2 #Arcmin^2 per pixel - given in arcseconds, converted to arcmin, and squared to find area in arcmin^2.\n",
    "\n",
    "pixel_area_err = 0 #error in pixel_area\n",
    "\n",
    "Pec_error = ((1+300/(299792.458))/(1-300/(299792.458)))**(1/2)-1  #The error in redshift due to peculiar velocity\n"
   ]
  },
  {
   "cell_type": "code",
   "execution_count": null,
   "metadata": {
    "collapsed": false
   },
   "outputs": [],
   "source": [
    "#General use\n",
    "import numpy as np\n",
    "from astropy.io import fits\n",
    "from astropy.cosmology import WMAP9 as cosmo\n",
    "\n",
    "#For creating a list of .fits files to perform photometry on\n",
    "import os\n",
    "\n",
    "#For reading and creating tables\n",
    "from astropy.table import Table, Column\n",
    "import astropy.io.ascii as asc  \n",
    "\n",
    "#For performing photometry\n",
    "from astropy import units as u\n",
    "from photutils import aperture_photometry, SkyCircularAperture, CircularAperture\n",
    "from astropy.coordinates import SkyCoord\n",
    "from astropy.wcs import WCS\n",
    "\n",
    "#For showing .fits images\n",
    "import matplotlib.pyplot as plt\n",
    "from matplotlib.colors import LogNorm\n"
   ]
  },
  {
   "cell_type": "code",
   "execution_count": null,
   "metadata": {
    "collapsed": true
   },
   "outputs": [],
   "source": [
    "#We define functions used to calculate error\n",
    "\n",
    "def Conv_error(val,err): #uncertanty in the conversion factor from arcmin^2 to Kpc^2 using arguments (redshift, redshift error)\n",
    "    return(\n",
    "            abs(((1/cosmo.kpc_comoving_per_arcmin(val+err))**2-(1/cosmo.kpc_comoving_per_arcmin(val-err))**2)/2).value\n",
    "          )\n",
    "\n",
    "def Comov_error(val,err): #Uncertanty in the comoving_distance using arguments (redshift, redshift error)\n",
    "    return(\n",
    "            abs(((cosmo.comoving_distance(val+err).cgs)-(cosmo.comoving_distance(val-err).cgs))/2).value          \n",
    "                )\n",
    "\n",
    "def Flux_error(val_1,err_1): #uncertanty in flux using arguments (counts per second, error in counts per second)\n",
    "    return(\n",
    "        ((val_1*flux_conv_err)**2+(flux_conv*err_1)**2)**(1/2)\n",
    "            )\n",
    "\n",
    "def Luminosity_error(flux,flux_err,dist,dist_err): #The input 'dist' is Comoving Distance\n",
    "    return(\n",
    "        ((4*np.pi*(dist**2)*flux_err)**2+(8*np.pi*dist*flux*dist_err)**2)**(1/2)\n",
    "    )\n",
    "\n",
    "def Sbrightness_error(lum,lum_err,conv,conv_err): #Uncertanty in surface brightness\n",
    "    return(\n",
    "        ((conv*lum_err/pixel_area)**2+(lum*conv_err/pixel_area)**2+\n",
    "         (lum*conv*pixel_area_err/(pixel_area)**2)**2)**(1/2)\n",
    "    )\n"
   ]
  },
  {
   "cell_type": "code",
   "execution_count": null,
   "metadata": {
    "collapsed": false
   },
   "outputs": [],
   "source": [
    "#When we perfom photometry on a .fits file, photutils may return zero. This can be because the pixel's in the aperture\n",
    "#are not within the field of view (towards the edge of the fits file) or that they are within the field of view\n",
    "#but the observed flux is actually zero. In such a case this function may be called to display the .fits image along\n",
    "#with the aperture so that the user can confirm which case it is.\n",
    "\n",
    "def zero_check(sci,aperture,wcs,w):\n",
    "\n",
    "    plt.imshow(sci, cmap='gray', norm=LogNorm())\n",
    "    aperture.to_pixel(wcs).plot(color='red')\n",
    "    CircularAperture(w,100).plot(color='red')\n",
    "    plt.show()\n",
    "    \n",
    "    \n",
    "        \n",
    "    if 'n' in input(): return(False)\n",
    "    else: return(True)"
   ]
  },
  {
   "cell_type": "code",
   "execution_count": null,
   "metadata": {
    "collapsed": false
   },
   "outputs": [],
   "source": [
    "#We define a function to perform photometry on a .fits file. When given the file path of a .fits file it checks to see\n",
    "#if there is a supernova observed in that file. If it finds one it returns the supernova name, a table of photometry \n",
    "#results, and the .fits file's exposure time\n",
    "\n",
    "def photometry(fits_file):\n",
    "    #open the file and create an hdulist\n",
    "    hdulist = fits.open(fits_file)\n",
    "    sci = hdulist[0].data\n",
    "    wcs = WCS(fits_file)\n",
    "    print('\\n',fits_file)\n",
    "\n",
    "    for sn in cord:\n",
    "\n",
    "        #Define the SN location in pixels\n",
    "        w = wcs.all_world2pix(cord[sn].ra,cord[sn].dec, 1)\n",
    "        \n",
    "        z=100\n",
    "        \n",
    "        #Make sure the sn is located in the image, and near the data pixels (aka 200 pixels away from the image edge)\n",
    "        if 190<w[0]<3600 and 190<w[1]<3600 and True in (sci[int(w[1])-z:int(w[1])+z,int(w[0])-z:int(w[0])+z]!=0):\n",
    "\n",
    "            #get exposure time and calculate error array\n",
    "            exp_time = hdulist[0].header['EXPTIME']\n",
    "            error = ((hdulist[0].data*exp_time)**(1/2))/exp_time\n",
    "            \n",
    "            #Find arcmin of 1kpc radius region\n",
    "            r = 2*u.kpc/cosmo.kpc_comoving_per_arcmin(float(red[sn]))\n",
    "            \n",
    "            #Create an aperture\n",
    "            aperture = SkyCircularAperture(cord[sn], r) \n",
    "            \n",
    "\n",
    "            #Perfom photometry\n",
    "            phot_table = aperture_photometry(hdulist[0], aperture, error=error)\n",
    "            \n",
    "\n",
    "            #We add values to their respective lists, which will be writen to the output file. \n",
    "            #Note that if the photometry = 0, we run zero_check which lets the user manually determine if \n",
    "            #the aperture is in the data region\n",
    "            if phot_table[0][0]!=0 or (phot_table[0][0]==0 and zero_check(sci,aperture,wcs,w)):\n",
    "                return([sn,phot_table,hdulist[0].header['EXPTIME']])\n",
    "            \n",
    "    #close the hdulist\n",
    "    hdulist.close()\n",
    "    return(False)\n"
   ]
  },
  {
   "cell_type": "code",
   "execution_count": null,
   "metadata": {
    "collapsed": false
   },
   "outputs": [],
   "source": [
    "#We create a list of .fits files to perform photometry on\n",
    "\n",
    "file_list = []\n",
    "\n",
    "for path, subdirs, files in os.walk(fits_directory):\n",
    "    for name in files:\n",
    "        if file_key in name: file_list.append(os.path.join(path, name))"
   ]
  },
  {
   "cell_type": "code",
   "execution_count": null,
   "metadata": {
    "collapsed": false
   },
   "outputs": [],
   "source": [
    "#Create a dictionary of coordinates (in degrees) and redshift by using values from the .reg file\n",
    "\n",
    "reg = asc.read(region_file, data_start=2, delimiter = \"#\", header_start=2)\n",
    "cord, red = {}, {}\n",
    "\n",
    "for row in reg: \n",
    "    cord[row[1].split(\",\")[0].strip('text={}')] = SkyCoord(row[0].strip('point()').replace(',',' '), unit=(u.hourangle, u.deg))\n",
    "    red[row[1].split(\",\")[0].strip('text={}')] = row[1].split(\",\")[2].strip('}').replace('z=','')\n"
   ]
  },
  {
   "cell_type": "code",
   "execution_count": null,
   "metadata": {
    "collapsed": false
   },
   "outputs": [],
   "source": [
    "#We perform photometry on each .fits file\n",
    "\n",
    "name, redshift, photom, photom_err, expt, file_name = [], [], [], [], [], [] #lists to be used when creating the output file\n",
    "\n",
    "for fits_file in file_list:\n",
    "    p = photometry(fits_file)\n",
    "    if p!= False",
    "        print(p[0],':', p[1][0][0], '+/-', p[1][0][1])\n",
    "        \n",
    "        name.append(p[0])\n",
    "        redshift.append(float(red[p[0]]))\n",
    "        photom.append(p[1][0][0])\n",
    "        photom_err.append(p[1][0][1])\n",
    "        expt.append(p[2])\n",
    "        file_name.append(fits_file)\n",
    "        \n",
    "    elif p==False: print('No Supernova Found')\n",
    "\n",
    "    \n",
    "print('\\nPhotometry finished')\n"
   ]
  },
  {
   "cell_type": "code",
   "execution_count": null,
   "metadata": {
    "collapsed": false
   },
   "outputs": [],
   "source": [
    "#We calculate the remaining values in the table\n",
    "\n",
    "out = Table()\n",
    "out.keep_columns([])\n",
    "        \n",
    "out['Sn Name'] = name\n",
    "\n",
    "out['Red shift'] = redshift\n",
    "\n",
    "out['Redshift error'] = [((1/1000)**2+(Pec_error)**2)**(1/2) for row in out] \n",
    "#Error in redshift taken as 1 in 1000 with an additional 300 km/s contribution from peculiar velocity\n",
    "\n",
    "out['ArcMin^2 per Kpc^2 at Redshift'] =[\n",
    "    (1/cosmo.kpc_comoving_per_arcmin(row[1]).value)**2 for row in out] \n",
    "\n",
    "out['ArcMin^2 / Kpc^2 error'] = [Conv_error(row[1],row[2]) for row in out] \n",
    "\n",
    "out['Photometry'] = photom\n",
    "\n",
    "out['Exposure Time'] = expt\n",
    "\n",
    "out['Photometry Error N^(1/2)/s'] = photom_err\n",
    "\n",
    "out['Flux (erg s-1 cm-2 A-1 px-1)'] = [flux_conv*row[5] for row in out] #convert cps to flux using the conversion factor\n",
    "\n",
    "out['Flux error (erg s-1 cm-2 A-1 px-1)'] = [Flux_error(row[5],row[7]) for row in out] \n",
    "\n",
    "out['Comoving Distance at Redshift (cm)'] = [cosmo.comoving_distance(row[1]).cgs.value for row in out] \n",
    "\n",
    "out['Comoving Error (cm)'] = [Comov_error(row[1],row[2]) for row in out]\n",
    "\n",
    "out['Luminosity (erg s-1 A-1 px-1)'] = [row[8]*4*np.pi*row[10]**2 for row in out] #luminosity = flux*4*pi*r^2\n",
    "\n",
    "out['Luminosity Error (erg s-1 A-1 px-1)'] = [Luminosity_error(row[8],row[9],row[10],row[11]) for row in out]\n",
    "\n",
    "out['Surface Brightness (erg s-1 A-1 Kpc^-2)'] = [row[12]/pixel_area*row[3] for row in out]\n",
    "\n",
    "out['Surface Brightness error (erg s-1 A-1 Kpc^-2)'] = [Sbrightness_error(row[12],row[13],row[3],row[4]) for row in out]\n",
    "\n",
    "out['log10 of Surface Brightness'] = [np.log10(row[14]) for row in out]\n",
    "\n",
    "out['Error in log10'] = [row[15]/(row[14]*np.log(10)) for row in out]\n",
    "\n",
    "out['File Name'] = file_name\n",
    "\n",
    "out.remove_columns(['Comoving Distance at Redshift (cm)', 'Comoving Error (cm)']) #remove columns we don't want in the output file"
   ]
  },
  {
   "cell_type": "code",
   "execution_count": null,
   "metadata": {
    "collapsed": false,
    "scrolled": true
   },
   "outputs": [],
   "source": [
    "out"
   ]
  },
  {
   "cell_type": "code",
   "execution_count": null,
   "metadata": {
    "collapsed": false
   },
   "outputs": [],
   "source": [
    "#Write data to an output file specified by the output_file object\n",
    "\n",
    "asc.write(out, output_file, delimiter=\",\")\n",
    "print('Script finished')\n"
   ]
  },
  {
   "cell_type": "code",
   "execution_count": null,
   "metadata": {
    "collapsed": true
   },
   "outputs": [],
   "source": []
  }
 ],
 "metadata": {
  "kernelspec": {
   "display_name": "Python 3",
   "language": "python",
   "name": "python3"
  },
  "language_info": {
   "codemirror_mode": {
    "name": "ipython",
    "version": 3
   },
   "file_extension": ".py",
   "mimetype": "text/x-python",
   "name": "python",
   "nbconvert_exporter": "python",
   "pygments_lexer": "ipython3",
   "version": "3.4.3"
  }
 },
 "nbformat": 4,
 "nbformat_minor": 0
}
