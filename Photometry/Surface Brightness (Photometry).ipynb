{
 "cells": [
  {
   "cell_type": "code",
   "execution_count": null,
   "metadata": {
    "collapsed": true
   },
   "outputs": [],
   "source": [
    "#We define initial parameters\n",
    "\n",
    "region_file=\"observed_target_info.reg\"\n",
    "\n",
    "output_file=\"output FUV.csv\" #The output file name including the file extension\n",
    "\n",
    "fits_directory='./' #The directory to look for .fits files in   \n",
    "\n",
    "file_key = \"fd-int\" #A string located in all the files you want to analyze in fits_directory\n",
    "check_file_key = \"fd-wt\" #A string to replace file_key when running photometry on the check file\n",
    "\n",
    "flux_conv = 2.06*(10**(-16)) \n",
    "        # A conversion factor from pixel count to flux in units of (erg cm-2 Å-1)/(N/s)\n",
    "        #NUV: Flux = 2.06*10**(-16) x CPS, FUV: Flux = 1.40*10**(-15) x CPS\n",
    "        #Reference: http://asd.gsfc.nasa.gov/archive/galex/FAQ/counts_background.html\n",
    "\n",
    "flux_conv_err = 0 #error in flux_conv\n",
    "    \n",
    "pixel_area=(1.5/60)**2 #Arcmin^2 per pixel - given in arcseconds, converted to arcmin, and squared to find area in arcmin^2.\n",
    "\n",
    "pixel_area_err = 0 #error in pixel_area\n",
    "\n",
    "Pec_error = ((1+300/(299792.458))/(1-300/(299792.458)))**(1/2)-1  #The error in redshift due to peculiar velocity\n"
   ]
  },
  {
   "cell_type": "code",
   "execution_count": null,
   "metadata": {
    "collapsed": false
   },
   "outputs": [],
   "source": [
    "#General use\n",
    "import numpy as np\n",
    "from astropy.io import fits\n",
    "from astropy.cosmology import WMAP9 as cosmo\n",
    "\n",
    "#For creating a list of .fits files to perform photometry on\n",
    "import os\n",
    "\n",
    "#For reading and creating tables\n",
    "from astropy.table import Table, Column\n",
    "import astropy.io.ascii as asc\n",
    "\n",
    "#For performing photometry\n",
    "from astropy import units as u\n",
    "from photutils import aperture_photometry, SkyCircularAperture, CircularAperture\n",
    "from astropy.coordinates import SkyCoord\n",
    "from astropy.wcs import WCS\n"
   ]
  },
  {
   "cell_type": "code",
   "execution_count": null,
   "metadata": {
    "collapsed": true
   },
   "outputs": [],
   "source": [
    "#We define functions used to calculate error\n",
    "\n",
    "def Conv_error(val,err): #uncertanty in the conversion factor from arcmin^2 to Kpc^2 using arguments (redshift, redshift error)\n",
    "    return(\n",
    "            abs(((1/cosmo.kpc_comoving_per_arcmin(val+err))**2-(1/cosmo.kpc_comoving_per_arcmin(val-err))**2)/2).value\n",
    "          )\n",
    "\n",
    "def Comov_error(val,err): #Uncertanty in the comoving_distance using arguments (redshift, redshift error)\n",
    "    return(\n",
    "            abs(((cosmo.comoving_distance(val+err).cgs)-(cosmo.comoving_distance(val-err).cgs))/2).value          \n",
    "                )\n",
    "\n",
    "def Flux_error(val_1,err_1): #uncertanty in flux using arguments (counts per second, error in counts per second)\n",
    "    return(\n",
    "        ((val_1*flux_conv_err)**2+(flux_conv*err_1)**2)**(1/2)\n",
    "            )\n",
    "\n",
    "def Luminosity_error(flux,flux_err,dist,dist_err): #The input 'dist' is Comoving Distance\n",
    "    return(\n",
    "        ((4*np.pi*(dist**2)*flux_err)**2+(8*np.pi*dist*flux*dist_err)**2)**(1/2)\n",
    "    )\n",
    "\n",
    "def Sbrightness_error(lum,lum_err,conv,conv_err): #Uncertanty in surface brightness\n",
    "    return(\n",
    "        ((conv*lum_err/pixel_area)**2+(lum*conv_err/pixel_area)**2+\n",
    "         (lum*conv*pixel_area_err/(pixel_area)**2)**2)**(1/2)\n",
    "    )\n"
   ]
  },
  {
   "cell_type": "code",
   "execution_count": null,
   "metadata": {
    "collapsed": false
   },
   "outputs": [],
   "source": [
    "#We define a function to perform photometry on a .fits file. When given the file path of a .fits file it checks to see\n",
    "#if there is a supernova observed in that file. If it finds one it returns the supernova name, a table of photometry \n",
    "#results, and the .fits file's exposure time\n",
    "\n",
    "def photometry(fits_file):\n",
    "    #open the file and create an hdulist\n",
    "    hdulist = fits.open(fits_file)\n",
    "    sci = hdulist[0].data\n",
    "    wcs = WCS(fits_file)\n",
    "    print('\\n',fits_file)\n",
    "\n",
    "    for sn in cord:\n",
    "\n",
    "        #Define the SN location in pixels\n",
    "        w = wcs.all_world2pix(cord[sn].ra,cord[sn].dec, 1)\n",
    "        \n",
    "        #Make sure the sn is located in the image, and near the data pixels (aka 200 pixels away from the image edge)\n",
    "        if 0<w[0]<3600 and 0<w[1]<3600:\n",
    "\n",
    "            #get exposure time and calculate error array\n",
    "            exp_time = hdulist[0].header['EXPTIME']\n",
    "            error = ((hdulist[0].data*exp_time)**(1/2))/exp_time\n",
    "            \n",
    "            #Find arcmin of 1kpc radius region\n",
    "            r = 2*u.kpc/cosmo.kpc_comoving_per_arcmin(float(red[sn]))\n",
    "            \n",
    "            #Create an aperture\n",
    "            aperture = SkyCircularAperture(cord[sn], r) \n",
    "            \n",
    "\n",
    "            #Perfom photometry\n",
    "            phot_table = aperture_photometry(hdulist[0], aperture, error=error)\n",
    "            \n",
    "\n",
    "            #We add values to their respective lists, which will be writen to the output file. \n",
    "            #Note that if the photometry = 0, we run zero_check which lets the user manually determine if \n",
    "            #the aperture is in the data region\n",
    "            if phot_table[0][0]!=0:\n",
    "                return([sn,phot_table,hdulist[0].header['EXPTIME']])\n",
    "            elif zero_check(fits_file, cord[sn], r)==True:\n",
    "                return([sn,phot_table,hdulist[0].header['EXPTIME']])\n",
    "            elif zero_check(fits_file, cord[sn], r)=='none':\n",
    "                return('none')\n",
    "            \n",
    "    #close the hdulist\n",
    "    hdulist.close()\n",
    "    return(False)\n",
    "\n"
   ]
  },
  {
   "cell_type": "code",
   "execution_count": null,
   "metadata": {
    "collapsed": true
   },
   "outputs": [],
   "source": [
    "#The zero_check function is passed a .fits file, along with the cordinates and radius of an aperture. It then performs\n",
    "#photometry on a wt file and determines if there are data pixels in the aperture.\n",
    "\n",
    "def zero_check(fits_file, cord, r):\n",
    "\n",
    "    try: \n",
    "        hdulist = fits.open(fits_file.replace(file_key,check_file_key))\n",
    "        aperture = SkyCircularAperture(cord, r)\n",
    "        phot_table = aperture_photometry(hdulist[0], aperture)\n",
    "        return(phot_table[0][0]!=0)\n",
    "    \n",
    "    except:\n",
    "        return('none')\n",
    "\n"
   ]
  },
  {
   "cell_type": "code",
   "execution_count": null,
   "metadata": {
    "collapsed": false
   },
   "outputs": [],
   "source": [
    "#We create a list of .fits files to perform photometry on\n",
    "\n",
    "file_list = []\n",
    "\n",
    "for path, subdirs, files in os.walk(fits_directory):\n",
    "    for name in files:\n",
    "        if file_key in name: file_list.append(os.path.join(path, name))\n"
   ]
  },
  {
   "cell_type": "code",
   "execution_count": null,
   "metadata": {
    "collapsed": false
   },
   "outputs": [],
   "source": [
    "#Create a dictionary of coordinates (in degrees) and redshift by using values from the .reg file\n",
    "\n",
    "reg = asc.read(region_file, data_start=2, delimiter = \"#\", header_start=2)\n",
    "cord, red = {}, {}\n",
    "\n",
    "for row in reg: \n",
    "    cord[row[1].split(\",\")[0].strip('text={}')] = SkyCoord(row[0].strip('point()').replace(',',' '), unit=(u.hourangle, u.deg))\n",
    "    red[row[1].split(\",\")[0].strip('text={}')] = row[1].split(\",\")[2].strip('}').replace('z=','')\n"
   ]
  },
  {
   "cell_type": "code",
   "execution_count": null,
   "metadata": {
    "collapsed": false
   },
   "outputs": [],
   "source": [
    "#We define lists and an array for the output file\n",
    "off_map, no_check = [], []\n",
    "n,m=0,0\n",
    "out = np.array([['Sn Name', 'Red shift', 'Redshift error', 'ArcMin^2 per Kpc^2 at Redshift', 'ArcMin^2 / Kpc^2 error',\n",
    "                'Photometry', 'Exposure Time (s)', 'Photometry Error N^(1/2)/s', 'Flux (erg s-1 cm-2 A-1 px-1)',\n",
    "                'Flux error (erg s-1 cm-2 A-1 px-1)', 'Luminosity (erg s-1 A-1 px-1)', 'Luminosity Error (erg s-1 A-1 px-1)',\n",
    "                'Surface Brightness (erg s-1 A-1 Kpc^-2)', 'Surface Brightness error (erg s-1 A-1 Kpc^-2)',\n",
    "                'log10 of Surface Brightness', 'Error in log10', 'File Path']])\n",
    "\n",
    "\n",
    "#We perform photometry on each .fits file\n",
    "\n",
    "for fits_file in file_list:\n",
    "    p = photometry(fits_file)\n",
    "    if p==False: \n",
    "        off_map.append(fits_file)\n",
    "        print('No Supernova Found')\n",
    "    elif p== 'none':\n",
    "        no_check.append(fits_file)\n",
    "        print('no check file')\n",
    "    else:\n",
    "        n+=1\n",
    "        print(p[0],':', p[1][0][0], '+/-', p[1][0][1])\n",
    "        \n",
    "        #We calculate the values in the table\n",
    "        \n",
    "        redshift = float(red[p[0]])\n",
    "        redshift_err = ((1/1000)**2+(Pec_error)**2)**(1/2) #Error in redshift taken as 1 in 1000 with an additional 300 km/s contribution from peculiar velocity\n",
    "        \n",
    "        arcmin = (1/cosmo.kpc_comoving_per_arcmin(redshift).value)**2\n",
    "        arcmin_err = Conv_error(redshift, redshift_err)\n",
    "        \n",
    "        photom = p[1][0][0]\n",
    "        photom_err = p[1][0][1]\n",
    "        \n",
    "        flux = flux_conv*photom #convert cps to flux using the conversion factor\n",
    "        flux_err = Flux_error(photom,photom_err)\n",
    "        \n",
    "        cmd = cosmo.comoving_distance(redshift).cgs.value #Comoving Distance at Redshift (cm)\n",
    "        cmd_err = Comov_error(redshift,redshift_err)\n",
    "        \n",
    "        lum = flux*4*np.pi*(cmd**2) #luminosity = flux*4*pi*r^2\n",
    "        lum_err = Luminosity_error(flux,flux_err,cmd,cmd_err)\n",
    "        \n",
    "        sbrightness = lum/pixel_area*arcmin\n",
    "        sbrightness_err = Sbrightness_error(lum,lum_err,arcmin,arcmin_err)\n",
    "        \n",
    "        log_sbrightness = np.log10(sbrightness)\n",
    "        log_sbrightness_err = sbrightness/(sbrightness_err*np.log(10))\n",
    "        \n",
    "        row = np.array([[p[0] , redshift, redshift_err, arcmin, arcmin_err, photom, p[2],\n",
    "                         photom_err, flux, flux_err, lum, lum_err, sbrightness, sbrightness_err,\n",
    "                        log_sbrightness, log_sbrightness_err, fits_file]])\n",
    "        \n",
    "        out = np.vstack((out, row))\n",
    "        \n",
    "\n",
    "\n",
    "    \n",
    "print('\\nPhotometry finished.', n, 'supernova oberved,', len(off_map), 'outside the field of view, and', len(no_check), 'missing check files.')\n"
   ]
  },
  {
   "cell_type": "code",
   "execution_count": null,
   "metadata": {
    "collapsed": true
   },
   "outputs": [],
   "source": []
  },
  {
   "cell_type": "code",
   "execution_count": null,
   "metadata": {
    "collapsed": false
   },
   "outputs": [],
   "source": [
    "#Write data to an output file specified by the output_file object\n",
    "\n",
    "asc.write(out, output_file, delimiter=\",\")\n",
    "print('Script finished')\n"
   ]
  },
  {
   "cell_type": "code",
   "execution_count": null,
   "metadata": {
    "collapsed": true
   },
   "outputs": [],
   "source": []
  }
 ],
 "metadata": {
  "kernelspec": {
   "display_name": "Python 3",
   "language": "python",
   "name": "python3"
  },
  "language_info": {
   "codemirror_mode": {
    "name": "ipython",
    "version": 3
   },
   "file_extension": ".py",
   "mimetype": "text/x-python",
   "name": "python",
   "nbconvert_exporter": "python",
   "pygments_lexer": "ipython3",
   "version": "3.4.3"
  }
 },
 "nbformat": 4,
 "nbformat_minor": 0
}
