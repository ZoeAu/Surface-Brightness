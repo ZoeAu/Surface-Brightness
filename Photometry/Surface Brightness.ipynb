{
 "cells": [
  {
   "cell_type": "code",
   "execution_count": null,
   "metadata": {
    "collapsed": false
   },
   "outputs": [],
   "source": [
    "#General use\n",
    "import numpy as np\n",
    "from astropy.io import fits\n",
    "from astropy.cosmology import WMAP9 as cosmo\n",
    "\n",
    "#For reading and creating tables\n",
    "from astropy.table import Table, Column\n",
    "import astropy.io.ascii as asc\n",
    "\n",
    "#For photometry\n",
    "from astropy import units as u\n",
    "from photutils import aperture_photometry\n",
    "from astropy.coordinates import SkyCoord\n",
    "from photutils import SkyCircularAperture\n",
    "\n",
    "#supress warning untill mapping issue is resolved\n",
    "import warnings\n",
    "warnings.filterwarnings(\"ignore\", message='The aperture at position')\n"
   ]
  },
  {
   "cell_type": "code",
   "execution_count": null,
   "metadata": {
    "collapsed": true
   },
   "outputs": [],
   "source": [
    "#We define functions used to calculate error\n",
    "\n",
    "def Conv_error(val,err): #uncertanty in the conversion factor from arcmin^2 to Kpc^2 using (redshift, redshift error)\n",
    "    return(\n",
    "            abs(((1/cosmo.kpc_comoving_per_arcmin(val+err))**2-(1/cosmo.kpc_comoving_per_arcmin(val-err))**2)/2).value\n",
    "          )\n",
    "\n",
    "def Comov_error(val,err): #Uncertanty in the comoving_distance using (redshift, redshift error)\n",
    "    return(\n",
    "            abs(((cosmo.comoving_distance(val+err).cgs)-(cosmo.comoving_distance(val-err).cgs))/2).value          \n",
    "                )\n",
    "\n",
    "def Flux_error(val_1,err_1): #uncertanty in flux using (counts per second, error in counts per second)\n",
    "    return(\n",
    "        ((val_1*flux_conv_err)**2+(flux_conv*err_1)**2)**(1/2)\n",
    "            )\n",
    "\n",
    "def Luminosity_error(flux,flux_err,dist,dist_err): #The input 'dist' is Comoving Distance\n",
    "    return(\n",
    "        ((4*np.pi*(dist**2)*flux_err)**2+(8*np.pi*dist*flux*dist_err)**2)**(1/2)\n",
    "    )\n",
    "\n",
    "def Sbrightness_error(lum,lum_err,conv,conv_err): #Uncertanty in surface brightness\n",
    "    return(\n",
    "        ((conv*lum_err/Pixel_area)**2+(lum*conv_err/Pixel_area)**2+\n",
    "         (lum*conv*Pixel_area_err/(Pixel_area)**2)**2)**(1/2)\n",
    "    )\n"
   ]
  },
  {
   "cell_type": "code",
   "execution_count": null,
   "metadata": {
    "collapsed": true
   },
   "outputs": [],
   "source": [
    "#We define initial variables\n",
    "\n",
    "Region_file=\"observed_target_info.reg\"\n",
    "Output_file=\"output NUV.csv\"\n",
    "\n",
    "flux_conv = 2.06*(10**(-16)) # A conversion factor from pixel count to flux in units of (erg cm-2 Å-1)/(N/s)\n",
    "        #NUV: Flux = 2.06*10**(-16) x CPS, FUV: Flux = 1.40*10**(-15) x CPS\n",
    "        #Reference: http://asd.gsfc.nasa.gov/archive/galex/FAQ/counts_background.html\n",
    "\n",
    "flux_conv_err = 0 #error in flux_conv\n",
    "    \n",
    "Pixel_area=(1.5/60)**2 #Arcmin per pixel - given in arcseconds, converted to arcmin, and squared to find area in arcmin^2.\n",
    "\n",
    "Pixel_area_err = 0 #error in Pixel_area\n",
    "\n",
    "Pec_error = ((1+300/(299792.458))/(1-300/(299792.458)))**(1/2)-1  #The error in redshift due to peculiar velocity"
   ]
  },
  {
   "cell_type": "code",
   "execution_count": null,
   "metadata": {
    "collapsed": false
   },
   "outputs": [],
   "source": [
    "#Create a dictionary of coordinates and redshift for each supernova enviornment\n",
    "\n",
    "reg = Table(asc.read(Region_file, data_start=2, delimiter = \"#\", header_start=2)) \n",
    "\n",
    "cord, red = {}, {}\n",
    "for row in reg: \n",
    "    cord[row[1].split(\",\")[0].strip('text={}')] = row[0].strip('point()').replace(',',' ')\n",
    "    red[row[1].split(\",\")[0].strip('text={}')] = row[1].split(\",\")[2].strip('}').replace('z=','')\n",
    "    "
   ]
  },
  {
   "cell_type": "code",
   "execution_count": null,
   "metadata": {
    "collapsed": false
   },
   "outputs": [],
   "source": [
    "#open the file and create an hdulist\n",
    "hdulist = fits.open('AIS_114_sg29-fd-int.fits', memmap=True)\n",
    "\n",
    "#Define the SN location and aperture size\n",
    "name, redshift, photom, expt = [], [], [], []\n",
    "for x in cord:\n",
    "    c = SkyCoord(cord[x], unit=(u.hourangle, u.deg))\n",
    "    aperture = SkyCircularAperture(c, r=4. * u.arcsec)\n",
    "    phot_table = aperture_photometry(hdulist, aperture)\n",
    "    if str(phot_table[0][0]) != 'nan': \n",
    "        name.append(x)\n",
    "        redshift.append(float(red[x]))\n",
    "        photom.append(phot_table[0][0])\n",
    "        expt.append(hdulist[0].header['EXPTIME'])\n"
   ]
  },
  {
   "cell_type": "code",
   "execution_count": null,
   "metadata": {
    "collapsed": false
   },
   "outputs": [],
   "source": [
    "#We calculate the remaining values in the table\n",
    "\n",
    "out = Table()\n",
    "        \n",
    "out['Sn Name'] = name\n",
    "\n",
    "out['Red shift'] = redshift\n",
    "\n",
    "out['Redshift error'] = [((1/1000)**2+(Pec_error)**2)**(1/2) for row in out] \n",
    "#Error in redshift taken as 1 in 1000 with an additional 300 km/s contribution from peculiar velocity\n",
    "\n",
    "out['ArcMin^2 per Kpc^2 at Redshift'] =[\n",
    "    (1/cosmo.kpc_comoving_per_arcmin(row[1]).value)**2 for row in out] \n",
    "\n",
    "out['ArcMin^2 / Kpc^2 error'] = [Conv_error(row[1],row[2]) for row in out] \n",
    "\n",
    "out['Photometry'] = photom\n",
    "\n",
    "out['Exposure Time'] = expt\n",
    "\n",
    "out['Pixel Error N^(1/2)/s'] = [(row[5]*row[6])**(1/2)/row[6] for row in out] #sqrt(cps *exposure time)/exposure time\n",
    "\n",
    "out['Flux (erg s-1 cm-2 A-1 px-1)'] = [flux_conv*row[5] for row in out] #convert cps to flux using the conversion factor\n",
    "\n",
    "out['Flux error (erg s-1 cm-2 A-1 px-1)'] = [Flux_error(row[5],row[7]) for row in out] \n",
    "\n",
    "out['Comoving Distance at Redshift (cm)'] = [cosmo.comoving_distance(row[1]).cgs.value for row in out] \n",
    "\n",
    "out['Comoving Error (cm)'] = [Comov_error(row[1],row[2]) for row in out]\n",
    "\n",
    "out['Luminosity (erg s-1 A-1 px-1)'] = [row[8]*4*np.pi*row[10]**2 for row in out] #luminosity = flux*4*pi*r^2\n",
    "\n",
    "out['Luminosity Error (erg s-1 A-1 px-1)'] = [Luminosity_error(row[8],row[9],row[10],row[11]) for row in out]\n",
    "\n",
    "out['Surface Brightness (erg s-1 A-1 Kpc^-2)'] = [row[12]/Pixel_area*row[3] for row in out]\n",
    "\n",
    "out['Surface Brightness error (erg s-1 A-1 Kpc^-2)'] = [Sbrightness_error(row[12],row[13],row[3],row[4]) for row in out]\n",
    "\n",
    "out['log10 of Surface Brightness'] = [np.log10(row[14]) for row in out]\n",
    "\n",
    "out['error in log10'] = [row[15]/(row[14]*np.log(10)) for row in out]\n",
    "\n",
    "out.remove_columns(['Comoving Distance at Redshift (cm)', 'Comoving Error (cm)']) #remove columns we don't want in the output file\n",
    "\n",
    "out"
   ]
  },
  {
   "cell_type": "code",
   "execution_count": null,
   "metadata": {
    "collapsed": true
   },
   "outputs": [],
   "source": [
    "#close the hdulist\n",
    "\n",
    "hdulist.close()"
   ]
  },
  {
   "cell_type": "code",
   "execution_count": null,
   "metadata": {
    "collapsed": false
   },
   "outputs": [],
   "source": []
  },
  {
   "cell_type": "code",
   "execution_count": null,
   "metadata": {
    "collapsed": true
   },
   "outputs": [],
   "source": []
  }
 ],
 "metadata": {
  "kernelspec": {
   "display_name": "Python 3",
   "language": "python",
   "name": "python3"
  },
  "language_info": {
   "codemirror_mode": {
    "name": "ipython",
    "version": 3
   },
   "file_extension": ".py",
   "mimetype": "text/x-python",
   "name": "python",
   "nbconvert_exporter": "python",
   "pygments_lexer": "ipython3",
   "version": "3.4.3"
  }
 },
 "nbformat": 4,
 "nbformat_minor": 0
}
