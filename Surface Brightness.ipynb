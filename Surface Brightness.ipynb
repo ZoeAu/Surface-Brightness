{
 "cells": [
  {
   "cell_type": "code",
   "execution_count": null,
   "metadata": {
    "collapsed": false
   },
   "outputs": [],
   "source": [
    "import numpy as np\n",
    "from astropy.cosmology import WMAP9 as cosmo\n",
    "from astropy.table import Table, Column\n",
    "import astropy.io.ascii as asc"
   ]
  },
  {
   "cell_type": "code",
   "execution_count": null,
   "metadata": {
    "collapsed": false
   },
   "outputs": [],
   "source": [
    "#We define functions for calculating the uncertanty in different values. The first two functions use a \"black box\" \n",
    "#style of calculation instead of a specific equation.\n",
    "\n",
    "\n",
    "def Conv_error(val,err): #uncertanty in the conversion factor from arcmin^2 to Kpc^2 using (redshift, redshift error)\n",
    "    return(\n",
    "            abs(((1/cosmo.kpc_comoving_per_arcmin(val+err))**2-(1/cosmo.kpc_comoving_per_arcmin(val-err))**2)/2).value\n",
    "          )\n",
    "\n",
    "def Comov_error(val,err): #Uncertanty in the comoving_distance using (redshift, redshift error)\n",
    "    return(\n",
    "            abs(((cosmo.comoving_distance(val+err).cgs)-(cosmo.comoving_distance(val-err).cgs))/2).value          \n",
    "                )\n",
    "\n",
    "def Flux_error(val_1,err_1): #uncertanty in flux using (counts per second, error in counts per second)\n",
    "    return(\n",
    "        ((val_1*flux_conv_err)**2+(flux_conv*err_1)**2)**(1/2)\n",
    "            )\n",
    "\n",
    "def Luminosity_error(flux,flux_err,dist,dist_err): #The input 'dist' is Comoving Distance\n",
    "    return(\n",
    "        ((4*np.pi*(dist**2)*flux_err)**2+(8*np.pi*dist*flux*dist_err)**2)**(1/2)\n",
    "    )\n",
    "\n",
    "def Sbrightness_error(lum,lum_err,conv,conv_err): #Uncertanty in surface brightness\n",
    "    return(\n",
    "        ((conv*lum_err/Pixel_area)**2+(lum*conv_err/Pixel_area)**2+\n",
    "         (lum*conv*Pixel_area_err/(Pixel_area)**2)**2)**(1/2)\n",
    "    )\n",
    "\n",
    "\n",
    "def Tab(Sn_name, Red_val, Sn_val, Sn_exp, Output_file, flux_conv, flux_conv_err, Pixel_area, Pec_error):\n",
    "    #We create the table 'out' and then write it to the output file path. \n",
    "    out = Table() \n",
    "    out['Sn Name'] = [row[Sn_name] for row in data]\n",
    "\n",
    "    out['Redshift'] = [float((row[Red_val])) for row in data]\n",
    "\n",
    "    out['Redshift error'] = [((1/1000)**2+(Pec_error)**2)**(1/2) for row in out] \n",
    "    #Error in redshift taken as 1 in 1000 with an additional 300 km/s contribution from peculiar velocity\n",
    "\n",
    "    out['ArcMin^2 per Kpc^2 at Redshift'] =[\n",
    "        (1/cosmo.kpc_comoving_per_arcmin(row[1]).value)**2 for row in out] \n",
    "\n",
    "    out['ArcMin^2 / Kpc^2 error'] = [Conv_error(row[1],row[2]) for row in out] \n",
    "\n",
    "    out['Pixel Value N/s'] = [float(row[Sn_val]) for row in data] #values are read in from input file\n",
    "\n",
    "    out['Exposure time (s)'] = [float((row[Sn_exp])) for row in data] \n",
    "\n",
    "    out['Pixel Error N^(1/2)/s'] = [(row[5]*row[6])**(1/2)/row[6] for row in out] #sqrt(cps *exposure time)/exposure time\n",
    "\n",
    "    out['Flux (erg s-1 cm-2 A-1 px-1)'] = [flux_conv*row[5] for row in out] #convert cps to flux using the conversion factor\n",
    "\n",
    "    out['Flux error (erg s-1 cm-2 A-1 px-1)'] = [Flux_error(row[5],row[7]) for row in out] \n",
    "\n",
    "    out['Comoving Distance at Redshift (cm)'] = [cosmo.comoving_distance(row[1]).cgs.value for row in out] \n",
    "\n",
    "    out['Comoving Error (cm)'] = [Comov_error(row[1],row[2]) for row in out]\n",
    "\n",
    "    out['Luminosity (erg s-1 A-1 px-1)'] = [row[8]*4*np.pi*row[10]**2 for row in out] #luminosity = flux*4*pi*r^2\n",
    "\n",
    "    out['Luminosity Error (erg s-1 A-1 px-1)'] = [Luminosity_error(row[8],row[9],row[10],row[11]) for row in out]\n",
    "\n",
    "    out['Surface Brightness (erg s-1 A-1 Kpc^-2)'] = [row[12]/Pixel_area*row[3] for row in out]\n",
    "\n",
    "    out['Surface Brightness error (erg s-1 A-1 Kpc^-2)'] = [Sbrightness_error(row[12],row[13],row[3],row[4]) for row in out]\n",
    "\n",
    "    out['log10 of Surface Brightness'] = [np.log10(row[14]) for row in out]\n",
    "\n",
    "    out['error in log10'] = [row[15]/(row[14]*np.log(10)) for row in out]\n",
    "\n",
    "    out.remove_columns(['Comoving Distance at Redshift (cm)', 'Comoving Error (cm)']) #remove columns we don't want in the output file\n",
    "\n",
    "    asc.write(out, Output_file, delimiter=\",\")\n",
    "    print('done')\n"
   ]
  },
  {
   "cell_type": "code",
   "execution_count": null,
   "metadata": {
    "collapsed": false
   },
   "outputs": [],
   "source": [
    "#Definition of file paths and relevant parameters:\n",
    "\n",
    "Input_file='GALEX flux single.csv'\n",
    "Sn_name = 0 #column number of SN names from Redshift_file\n",
    "Red_val = 1 #column number of redshift values from Redshift_file\n",
    "Sn_val = 2 #column number of counts per second from Data_file\n",
    "Sn_exp = 3 #column number of exposure time from Data_file\n",
    "\n",
    "Output_file=\"output NUV.csv\"\n",
    "\n",
    "flux_conv = 2.06*(10**(-16)) # A conversion factor from pixel count to flux in units of (erg cm-2 Å-1)/(N/s)\n",
    "        #NUV: Flux = 2.06*10**(-16) x CPS, FUV: Flux = 1.40*10**(-15) x CPS\n",
    "        #Reference: http://asd.gsfc.nasa.gov/archive/galex/FAQ/counts_background.html\n",
    "flux_conv_err = 0 #error in flux_conv\n",
    "    \n",
    "Pixel_area=(1.5/60)**2 #Arcmin per pixel - given in arcseconds, converted to arcmin, and squared to find area in arcmin^2.\n",
    "Pixel_area_err = 0 #error in Pixel_area\n",
    "\n",
    "Pec_error = ((1+300/(299792.458))/(1-300/(299792.458)))**(1/2)-1  #The error in redshift due to peculiar velocity\n",
    "\n",
    "data = Table(asc.read(Input_file, data_start=1)) \n",
    "Tab(Sn_name, Red_val, Sn_val, Sn_exp, Output_file, flux_conv, flux_conv_err, Pixel_area, Pec_error)"
   ]
  },
  {
   "cell_type": "code",
   "execution_count": null,
   "metadata": {
    "collapsed": true
   },
   "outputs": [],
   "source": []
  }
 ],
 "metadata": {
  "kernelspec": {
   "display_name": "Python 3",
   "language": "python",
   "name": "python3"
  },
  "language_info": {
   "codemirror_mode": {
    "name": "ipython",
    "version": 3
   },
   "file_extension": ".py",
   "mimetype": "text/x-python",
   "name": "python",
   "nbconvert_exporter": "python",
   "pygments_lexer": "ipython3",
   "version": "3.4.3"
  }
 },
 "nbformat": 4,
 "nbformat_minor": 0
}
