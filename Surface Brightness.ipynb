{
 "cells": [
  {
   "cell_type": "code",
   "execution_count": 13,
   "metadata": {
    "collapsed": false
   },
   "outputs": [],
   "source": [
    "#Set these parameters to desired values before running the code\n",
    "\n",
    "region_file = \"observed_target_info.reg\" #The region file with supernova coordinates and redshifts\n",
    "\n",
    "fits_directory='./' #The directory to look for .fits files in   \n",
    "\n",
    "output_file=\"output \" #The output file name without an extension. Include a space at the end.\n",
    "\n",
    "uv_type = 'FUV' #Specify FUV or NUV observations\n"
   ]
  },
  {
   "cell_type": "code",
   "execution_count": 14,
   "metadata": {
    "collapsed": false
   },
   "outputs": [],
   "source": [
    "#General use\n",
    "import numpy as np\n",
    "from astropy.io import fits\n",
    "from astropy.cosmology import WMAP9 as cosmo\n",
    "\n",
    "#For creating a list of .fits files to perform photometry on\n",
    "import os\n",
    "\n",
    "#For reading and creating tables\n",
    "from astropy.table import Table\n",
    "import astropy.io.ascii as asc\n",
    "\n",
    "#For performing photometry\n",
    "from astropy import units as u\n",
    "from photutils import aperture_photometry, SkyCircularAperture, CircularAperture\n",
    "from astropy.coordinates import SkyCoord\n",
    "from astropy.wcs import WCS\n",
    "\n",
    "#For generating a plot\n",
    "import matplotlib.pyplot as plt\n",
    "from matplotlib.backends.backend_pdf import PdfPages\n",
    "%matplotlib inline\n"
   ]
  },
  {
   "cell_type": "code",
   "execution_count": 15,
   "metadata": {
    "collapsed": true
   },
   "outputs": [],
   "source": [
    "#We define functions used to calculate the error in different values\n",
    "\n",
    "'''\n",
    "    Find error in the conversion factor from arcmin^2 to Kpc^2 using a black box error method.\n",
    "\n",
    "    Args:\n",
    "        val (float): A redshift value\n",
    "        err (float): Error in the redshift\n",
    "        \n",
    "    Returns:\n",
    "        error (float): Error in the conversion factor\n",
    "'''\n",
    "\n",
    "def Conv_error(val,err): \n",
    "    \n",
    "    error = abs(((1/cosmo.kpc_comoving_per_arcmin(val+err))**2-(1/cosmo.kpc_comoving_per_arcmin(val-err))**2)/2).value\n",
    "    return(error)\n",
    "\n",
    "\n",
    "'''\n",
    "    Find error in the comoving distance using a black box error method\n",
    "\n",
    "    Args:\n",
    "        val (float): A redshift value\n",
    "        err (float): Error in the redshift\n",
    "        \n",
    "    Returns:\n",
    "        error (float): Error in comoving distance \n",
    "'''\n",
    "\n",
    "def Comov_error(val,err):\n",
    "    \n",
    "    error = abs(((cosmo.comoving_distance(val+err).cgs)-(cosmo.comoving_distance(val-err).cgs))/2).value           \n",
    "    return(error)\n",
    "\n",
    "\n",
    "'''\n",
    "    Find error in the calculated flux due to error in the measured photon counts per second\n",
    "    \n",
    "    Args:\n",
    "        val (float): Average photon counts per second\n",
    "        err (float): Error in val\n",
    "        \n",
    "    Returns:\n",
    "        error (float): Error in the flux\n",
    "'''\n",
    "\n",
    "def Flux_error(val,err):\n",
    "\n",
    "    error = ((val*flux_conv_err)**2+(flux_conv*err)**2)**(1/2)\n",
    "    return(error)\n",
    "\n",
    "\n",
    "'''\n",
    "    Find error in the calculated Luminosity due error in the flux and comoving distance\n",
    "    \n",
    "    Args:\n",
    "        flux     (float): Average photon counts per second\n",
    "        flux_err (float): Error in val\n",
    "        dist     (float): Comoving distance\n",
    "        dist_err (float): Error in comoving distance\n",
    "        \n",
    "    Returns:\n",
    "        error (float): Error in the luminosity\n",
    "'''\n",
    "\n",
    "def Luminosity_error(flux,flux_err,dist,dist_err): #The input 'dist' is Comoving Distance\n",
    "\n",
    "    error = ((4*np.pi*(dist**2)*flux_err)**2+(8*np.pi*dist*flux*dist_err)**2)**(1/2)\n",
    "    return(error)\n",
    "\n",
    "\n",
    "'''\n",
    "    Find the error in surface brightness \n",
    "    \n",
    "    Args:\n",
    "        lum      (float): Luminosity of a supernova environment\n",
    "        lum_err  (float): Error in the luminosity\n",
    "        conv     (float): Conversion factor from arcmin^2 to Kpc^2 \n",
    "        conv_err (float): Error in the conversion factor\n",
    "        \n",
    "    Returns:\n",
    "        error (float): Error in the Surface brightness\n",
    "'''\n",
    "\n",
    "def Sbrightness_error(lum,lum_err,conv,conv_err): #Uncertanty in surface brightness\n",
    "    \n",
    "    error = ((conv*lum_err/pixel_area)**2+(lum*conv_err/pixel_area)**2+\n",
    "         (lum*conv*pixel_area_err/(pixel_area**2))**2)**(1/2)\n",
    "    \n",
    "    return(error)\n"
   ]
  },
  {
   "cell_type": "code",
   "execution_count": 16,
   "metadata": {
    "collapsed": false
   },
   "outputs": [],
   "source": [
    "'''\n",
    "    Perform photometry on a .fits file using a 1kpc radius aperture. \n",
    "    \n",
    "    Args:\n",
    "        fits_file (str): The file path of a .fits file\n",
    "\n",
    "    Returns:\n",
    "        results (list): [supernova name (string), photometry value (float), exposure time (float)]\n",
    "        'none'  (str) : Returned if photometry of a supernova is zero and there was no check file\n",
    "        False   (bool): Returned if no supernova is found in the .fits file\n",
    "'''\n",
    "\n",
    "def photometry(fits_file):\n",
    "\n",
    "    #open the file and create an hdulist\n",
    "    hdulist = fits.open(fits_file)\n",
    "    sci = hdulist[0].data\n",
    "    wcs = WCS(fits_file)\n",
    "\n",
    "    for sn in cord:\n",
    "\n",
    "        #Define the SN location in pixels\n",
    "        w = wcs.all_world2pix(cord[sn].ra,cord[sn].dec, 1)\n",
    "        \n",
    "        #Make sure the sn is located in the image\n",
    "        if 0<w[0]<3600 and 0<w[1]<3600:\n",
    "\n",
    "            #get exposure time and create an array of the error in each pixel\n",
    "            exp_time = hdulist[0].header['EXPTIME']\n",
    "            error = ((hdulist[0].data*exp_time)**(1/2))/exp_time\n",
    "            \n",
    "            #Find arcmin of a 1kpc radius region\n",
    "            r = 2*u.kpc/cosmo.kpc_comoving_per_arcmin(float(red[sn]))\n",
    "            \n",
    "            #Create an aperture\n",
    "            aperture = SkyCircularAperture(cord[sn], r) \n",
    "            \n",
    "            #Perform photometry\n",
    "            phot_table = aperture_photometry(hdulist[0], aperture, error=error)\n",
    "            \n",
    "            results = [sn, phot_table, exp_time]\n",
    "            \n",
    "            if phot_table[0][0]!=0:\n",
    "                return(results)\n",
    "            \n",
    "            #If the photometry process returns 0, we run the function zero_check \n",
    "            #which uses a check file to determine if the aperture is in the data region\n",
    "            elif zero_check(fits_file, cord[sn], r)==True:\n",
    "                return(results)\n",
    "            \n",
    "            elif zero_check(fits_file, cord[sn], r)=='none':\n",
    "                return('none')\n",
    "            \n",
    "    #close the hdulist\n",
    "    hdulist.close()\n",
    "    \n",
    "    return(False)\n"
   ]
  },
  {
   "cell_type": "code",
   "execution_count": 17,
   "metadata": {
    "collapsed": false
   },
   "outputs": [],
   "source": [
    "'''\n",
    "    Perform photometry on a wt type .fits file and check if there are data pixels in an aperture\n",
    "    \n",
    "    Args:\n",
    "        fits_file (str)      : The file path of a .fits file\n",
    "        cord      (SkyCoord) : The (ra, dec) of a supernova in degrees\n",
    "        r         (Quantity) : The radius of a photometry aperture in arcmin.\n",
    "\n",
    "    Returns:\n",
    "        in_file (bool): [supernova name(string), photometry value (float), exposure time (float)]\n",
    "        'none'  (str) : Returned if there is no check file\n",
    "'''\n",
    "\n",
    "def zero_check(fits_file, cord, r):\n",
    "\n",
    "\n",
    "    if(os.path.isfile(fits_file.replace(file_key,check_file_key))):\n",
    "          \n",
    "        hdulist = fits.open(fits_file.replace(file_key,check_file_key))\n",
    "        aperture = SkyCircularAperture(cord, r)\n",
    "        phot_table = aperture_photometry(hdulist[0], aperture)\n",
    "        in_file = phot_table[0][0]!=0\n",
    "        return(in_file)\n",
    "    \n",
    "    else:\n",
    "        return('none')\n"
   ]
  },
  {
   "cell_type": "code",
   "execution_count": 18,
   "metadata": {
    "collapsed": false
   },
   "outputs": [],
   "source": [
    "#Set parameters that are specific to NUV or FUV observations\n",
    "\n",
    "if 'N' in uv_type.upper():\n",
    "    \n",
    "    file_key = \"nd-int\" #A string located in all the files you want to analyze in fits_directory\n",
    "    check_file_key = \"nd-wt\" #A string to replace file_key in the file path of the the check file\n",
    "    flux_conv = 2.06*(10**(-16)) #A conversion factor from counts per second to flux\n",
    "    plot_name = 'Supernova Region Brightness in the NUV' #The title of the output plot\n",
    "        \n",
    "elif 'F' in uv_type.upper():\n",
    "    file_key = \"fd-int\" \n",
    "    check_file_key = \"fd-wt\" \n",
    "    flux_conv = 1.40*10**(-15) \n",
    "    plot_name = 'Supernova Region Brightness in the FUV'\n",
    "\n",
    "\n",
    "flux_conv_err = 0 #Error in flux_conv\n",
    "pixel_area=(1.5/60)**2 #Arcmin^2 per pixel \n",
    "pixel_area_err = 0 #Error in pixel_area\n"
   ]
  },
  {
   "cell_type": "code",
   "execution_count": 19,
   "metadata": {
    "collapsed": false
   },
   "outputs": [],
   "source": [
    "#Create a list of .fits files to perform photometry on\n",
    "\n",
    "file_list = []\n",
    "\n",
    "for path, subdirs, files in os.walk(fits_directory):\n",
    "    for name in files:\n",
    "        if file_key in name: file_list.append(os.path.join(path, name))\n"
   ]
  },
  {
   "cell_type": "code",
   "execution_count": 20,
   "metadata": {
    "collapsed": false
   },
   "outputs": [],
   "source": [
    "#Create dictionaries for the coordinates (in degrees) and redshift of supernova by using values from the .reg file\n",
    "\n",
    "reg = asc.read(region_file, data_start=2, delimiter = \"#\", header_start=2)\n",
    "cord, red = {}, {}\n",
    "\n",
    "for row in reg: \n",
    "    cord[row[1].split(\",\")[0].strip('text={}')] = SkyCoord(row[0].strip('point()').replace(',',' '), unit=(u.hourangle, u.deg))\n",
    "        \n",
    "    red[row[1].split(\",\")[0].strip('text={}')] = row[1].split(\",\")[2].strip('}').replace('z=','')\n",
    "\n",
    "\n",
    "reg = asc.read('Friedman data table.csv', delimiter = \",\")\n",
    "\n",
    "for row in reg:\n",
    "    red[row[0]]=row[4]\n",
    "    cord[row[0]]=SkyCoord(ra=row[1]*u.degree, dec=row[2]*u.degree)\n"
   ]
  },
  {
   "cell_type": "code",
   "execution_count": 21,
   "metadata": {
    "collapsed": false
   },
   "outputs": [
    {
     "name": "stdout",
     "output_type": "stream",
     "text": [
      "\n",
      "Photometry finished: 242 supernova oberved.\n"
     ]
    },
    {
     "name": "stderr",
     "output_type": "stream",
     "text": [
      "/Users/Daniel/anaconda/lib/python3.4/site-packages/ipykernel/__main__.py:51: RuntimeWarning: divide by zero encountered in log10\n",
      "/Users/Daniel/anaconda/lib/python3.4/site-packages/ipykernel/__main__.py:52: RuntimeWarning: invalid value encountered in double_scalars\n"
     ]
    }
   ],
   "source": [
    "#Define arrays used to generate the output files\n",
    "\n",
    "n=0\n",
    "log = np.array([['Issue', 'File Path']])\n",
    "out = np.array([['Sn Name', 'Red shift', 'Redshift error', 'ArcMin^2 per Kpc^2 at Redshift', \n",
    "                 'ArcMin^2 / Kpc^2 error', 'Photometry', 'Exposure Time (s)', \n",
    "                 'Photometry Error N^(1/2)/s', 'Flux (erg s-1 cm-2 A-1 px-1)', \n",
    "                 'Flux error (erg s-1 cm-2 A-1 px-1)', 'Luminosity (erg s-1 A-1 px-1)', \n",
    "                 'Luminosity Error (erg s-1 A-1 px-1)', 'Surface Brightness (erg s-1 A-1 Kpc^-2)', \n",
    "                 'Surface Brightness error (erg s-1 A-1 Kpc^-2)', 'log10 of Surface Brightness', \n",
    "                 'Error in log10', 'File Path']])\n",
    "\n",
    "#We perform photometry on each .fits file\n",
    "\n",
    "for fits_file in file_list:\n",
    "\n",
    "    p = photometry(fits_file)\n",
    "    \n",
    "    if p==False: \n",
    "        log = np.vstack((log, np.array([['No Supernova Found', fits_file]])))\n",
    "        \n",
    "    elif p=='none':\n",
    "        log = np.vstack((log, np.array([['No Check File', fits_file]])))\n",
    "  \n",
    "    else:\n",
    "        n+=1\n",
    "        \n",
    "        #We calculate the values in the table\n",
    "        \n",
    "        redshift = float(red[p[0]])\n",
    "        redshift_err = ((redshift/1000)**2+(300/(299792.458))**2)**(1/2) #Error in redshift taken as 1 in 1000 with an additional 300 km/s contribution from peculiar velocity\n",
    "        \n",
    "        arcmin = (1/cosmo.kpc_comoving_per_arcmin(redshift).value)**2 #conversion factor from arcmin^2 to Kpc^2\n",
    "        arcmin_err = Conv_error(redshift, redshift_err)\n",
    "        \n",
    "        photom = p[1][0][0] #The photometry value\n",
    "        photom_err = p[1][0][1]\n",
    "        \n",
    "        flux = flux_conv*photom #convert cps to flux using the conversion factor\n",
    "        flux_err = Flux_error(photom,photom_err)\n",
    "        \n",
    "        cmd = cosmo.comoving_distance(redshift).cgs.value #Comoving Distance at Redshift (cm)\n",
    "        cmd_err = Comov_error(redshift,redshift_err)\n",
    "        \n",
    "        lum = flux*4*np.pi*(cmd**2) #luminosity = flux*4*pi*r^2\n",
    "        lum_err = Luminosity_error(flux,flux_err,cmd,cmd_err)\n",
    "        \n",
    "        sbrightness = (lum/pixel_area)*arcmin\n",
    "        sbrightness_err = Sbrightness_error(lum,lum_err,arcmin,arcmin_err)\n",
    "        \n",
    "        log_sbrightness = np.log10(sbrightness)\n",
    "        log_sbrightness_err = sbrightness_err/(sbrightness*np.log(10))\n",
    "        \n",
    "        row = np.array([[p[0] , redshift, redshift_err, arcmin, arcmin_err, photom, p[2],\n",
    "                         photom_err, flux, flux_err, lum, lum_err, sbrightness, sbrightness_err,\n",
    "                        log_sbrightness, log_sbrightness_err, fits_file]])\n",
    "        \n",
    "        out = np.vstack((out, row))\n",
    "        \n",
    "\n",
    "print('\\nPhotometry finished:', n, 'supernova oberved.')"
   ]
  },
  {
   "cell_type": "code",
   "execution_count": 22,
   "metadata": {
    "collapsed": false
   },
   "outputs": [],
   "source": [
    "#We keep only the results for each supernova with the smallest error values\n",
    "\n",
    "out_unique = out[0,:] #We create a new array with the first row of out (the collumn headers)\n",
    "\n",
    "for entry in out: \n",
    "    if entry[0] not in out_unique:\n",
    "        out_unique = np.vstack((out_unique,entry))\n",
    "    else: \n",
    "        for row in out_unique:\n",
    "            if entry[0]==row[0] and entry[13]<row[13]: row=entry\n"
   ]
  },
  {
   "cell_type": "code",
   "execution_count": 28,
   "metadata": {
    "collapsed": false
   },
   "outputs": [
    {
     "data": {
      "image/png": "[encoded data removed]",
      "text/plain": [
       "<matplotlib.figure.Figure at 0x108b8e400>"
      ]
     },
     "metadata": {},
     "output_type": "display_data"
    }
   ],
   "source": [
    "#We create a plot of the results and write them to a pdf file\n",
    "   \n",
    "t = Table(out_unique[1:], names=out_unique[0], dtype=(str, 'float64', 'float64', 'float64', 'float64', 'float64', 'float64', 'float64', 'float64', 'float64', 'float64', 'float64', 'float64', 'float64', 'float64', 'float64', str))\n",
    "\n",
    "ax = plt.gca()\n",
    "ax.set_yscale('log')\n",
    "ax.plot(t['Red shift'], t['Surface Brightness (erg s-1 A-1 Kpc^-2)'],'.')\n",
    "ax.errorbar(t['Red shift'], t['Surface Brightness (erg s-1 A-1 Kpc^-2)'],\n",
    "            xerr=None, yerr=t['Surface Brightness error (erg s-1 A-1 Kpc^-2)'],\n",
    "            color='black', linestyle='')\n",
    "\n",
    "\n",
    "plt.xlabel('Redshift')\n",
    "plt.ylabel('log 10 of Surface Brightness')\n",
    "plt.title(plot_name)\n",
    "\n",
    "plt.savefig(output_file + uv_type + ' plot.pdf')\n",
    "plt.show()\n",
    "plt.close()\n",
    "\n"
   ]
  },
  {
   "cell_type": "code",
   "execution_count": 29,
   "metadata": {
    "collapsed": false
   },
   "outputs": [
    {
     "data": {
      "text/html": [
       "&lt;Table masked=False length=148&gt;\n",
       "<table id=\"table4441302520\">\n",
       "<thead><tr><th>Sn Name</th><th>Red shift</th><th>Redshift error</th><th>ArcMin^2 per Kpc^2 at Redshift</th><th>ArcMin^2 / Kpc^2 error</th><th>Photometry</th><th>Exposure Time (s)</th><th>Photometry Error N^(1/2)/s</th><th>Flux (erg s-1 cm-2 A-1 px-1)</th><th>Flux error (erg s-1 cm-2 A-1 px-1)</th><th>Luminosity (erg s-1 A-1 px-1)</th><th>Luminosity Error (erg s-1 A-1 px-1)</th><th>Surface Brightness (erg s-1 A-1 Kpc^-2)</th><th>Surface Brightness error (erg s-1 A-1 Kpc^-2)</th><th>log10 of Surface Brightness</th><th>Error in log10</th><th>File Path</th></tr></thead>\n",
       "<thead><tr><th>str3328</th><th>object</th><th>float64</th><th>float64</th><th>float64</th><th>float64</th><th>float64</th><th>float64</th><th>float64</th><th>float64</th><th>float64</th><th>float64</th><th>float64</th><th>float64</th><th>float64</th><th>float64</th><th>str3328</th></tr></thead>\n",
       "<tr><td>SN2008fr</td><td>0.039</td><td>0.00100145197111</td><td>0.000422543917765</td><td>2.15420026819e-05</td><td>0.0375597929924</td><td>1632.0</td><td>0.00479735126486</td><td>5.25837101894e-17</td><td>6.7162917708e-18</td><td>1.75969779985e+38</td><td>2.4195793343e+37</td><td>1.18967936389e+38</td><td>1.74462746164e+37</td><td>38.0754299284</td><td>0.0636879231974</td><td>./fits files/Friedman Supernova/2418435336423079936/MISDR1_16952_0422-fd-int.fits</td></tr>\n",
       "<tr><td>SN2005eq</td><td>0.028977</td><td>0.00100111174051</td><td>0.000762044240145</td><td>5.24453193453e-05</td><td>0.0178092801677</td><td>1693.05</td><td>0.00324330862451</td><td>2.49329922347e-17</td><td>4.54063207432e-18</td><td>4.62650394653e+37</td><td>9.00437474444e+36</td><td>5.64096109514e+37</td><td>1.16449565095e+37</td><td>37.7513531045</td><td>0.0896538775713</td><td>./fits files/Friedman Supernova/2422868567306272768/MISDR1_18848_0459-fd-int.fits</td></tr>\n",
       "<tr><td>SN2010Y</td><td>0.01086</td><td>0.00100075121286</td><td>0.00538268625209</td><td>0.00100670321087</td><td>0.132173075612</td><td>1694.0</td><td>0.00883313363407</td><td>1.85042305857e-16</td><td>1.23663870877e-17</td><td>4.86105668517e+37</td><td>9.50996082304e+36</td><td>4.18648687838e+38</td><td>1.1330779512e+38</td><td>38.6218497343</td><td>0.117542349007</td><td>./fits files/Friedman Supernova/2425296288980402176/MISDR1_00398_0490-fd-int.fits</td></tr>\n",
       "<tr><td>SN2005ch</td><td>0.027</td><td>0.00100105646716</td><td>0.000876967317159</td><td>6.48224555063e-05</td><td>0.0329078065211</td><td>1704.0</td><td>0.00439455272874</td><td>4.60709291295e-17</td><td>6.15237382023e-18</td><td>7.42851975435e+37</td><td>1.13311256505e+37</td><td>1.04233104631e+38</td><td>1.76676581725e+37</td><td>38.0180056736</td><td>0.073613526908</td><td>./fits files/Friedman Supernova/2428216591863775232/MISDR1_33770_0534-fd-int.fits</td></tr>\n",
       "<tr><td>SN2010jv</td><td>0.013469</td><td>0.00100078292572</td><td>0.0035033149979</td><td>0.000524861414513</td><td>0.0780246590462</td><td>2640.0</td><td>0.00543643217911</td><td>1.09234522665e-16</td><td>7.61100505076e-18</td><td>4.40899338204e+37</td><td>7.21910076408e+36</td><td>2.47137482255e+38</td><td>5.48483756411e+37</td><td>38.3929386179</td><td>0.0963850026508</td><td>./fits files/Friedman Supernova/2484793062182617088/NGA_NGC2388-fd-int.fits</td></tr>\n",
       "<tr><td>SN2008fv</td><td>0.009346</td><td>0.00100073592829</td><td>0.00726310843175</td><td>0.00158844977791</td><td>1.47848771218</td><td>1684.15</td><td>0.0296291008506</td><td>2.06988279705e-15</td><td>4.14807411908e-17</td><td>4.02978566196e+38</td><td>8.65022854635e+37</td><td>4.68300323513e+39</td><td>1.43507820546e+39</td><td>39.6705244578</td><td>0.133086934695</td><td>./fits files/Friedman Supernova/2486587465159147520/NGA_NGC3147-fd-int.fits</td></tr>\n",
       "<tr><td>SN2007sr</td><td>0.005417</td><td>0.00100070694728</td><td>0.0215833625191</td><td>0.00853752252135</td><td>0.310996539223</td><td>2334.4</td><td>0.0115422413481</td><td>4.35395154912e-16</td><td>1.61591378873e-17</td><td>2.85248393142e+37</td><td>1.05798277125e+37</td><td>9.8505911635e+38</td><td>5.34147239625e+38</td><td>38.9934622946</td><td>0.235495712737</td><td>./fits files/Friedman Supernova/2488487421453271040/NGA_Antennae-fd-int.fits</td></tr>\n",
       "<tr><td>SN2006X</td><td>0.00524</td><td>0.0010007060048</td><td>0.0230643401017</td><td>0.00947780631679</td><td>3.74814276767</td><td>1754.1</td><td>0.0462254225406</td><td>5.24739987473e-15</td><td>6.47155915568e-17</td><td>3.21707989958e+38</td><td>1.22801199049e+38</td><td>1.18719719901e+40</td><td>6.65857853207e+39</td><td>40.0745228633</td><td>0.243580756104</td><td>./fits files/Friedman Supernova/2489367030554165248/NGA_NGC4321-fd-int.fits</td></tr>\n",
       "<tr><td>SN2008hy</td><td>0.008459</td><td>0.00100072803755</td><td>0.00886276855361</td><td>0.00215294422314</td><td>0.123208322138</td><td>2765.1</td><td>0.00667520474982</td><td>1.72491650993e-16</td><td>9.34528664974e-18</td><td>2.75205678657e+37</td><td>6.66846797595e+36</td><td>3.90253477533e+38</td><td>1.33899357805e+38</td><td>38.5913467817</td><td>0.149010208936</td><td>./fits files/Friedman Supernova/2504003729343119360/LGAL_IC334-fd-int.fits</td></tr>\n",
       "<tr><td>SN2009fv</td><td>0.0293</td><td>0.00100112114174</td><td>0.000745441001229</td><td>5.07312398837e-05</td><td>0.0151664341942</td><td>12687.35</td><td>0.00109334265919</td><td>2.12330078719e-17</td><td>1.53067972287e-18</td><td>4.0276986031e+37</td><td>3.98862581276e+36</td><td>4.80385868694e+37</td><td>5.77232143717e+36</td><td>37.6815902235</td><td>0.0521848686921</td><td>./fits files/Friedman Supernova/2531166064595697664/ELAISN2_01-fd-int.fits</td></tr>\n",
       "<tr><td>...</td><td>...</td><td>...</td><td>...</td><td>...</td><td>...</td><td>...</td><td>...</td><td>...</td><td>...</td><td>...</td><td>...</td><td>...</td><td>...</td><td>...</td><td>...</td><td>...</td></tr>\n",
       "<tr><td>SN2013ck</td><td>0.049</td><td>0.00100189123684</td><td>0.000268862744268</td><td>1.08842313129e-05</td><td>0.0</td><td>112.0</td><td>0.0</td><td>0.0</td><td>0.0</td><td>0.0</td><td>0.0</td><td>0.0</td><td>0.0</td><td>-inf</td><td>nan</td><td>./fits files/Other Supernova/SN2013ck/1/AIS_115/AIS_115_sg10-fd-int.fits</td></tr>\n",
       "<tr><td>SN2013cs</td><td>0.00924</td><td>0.00100073494395</td><td>0.00743036625534</td><td>0.00164458741502</td><td>0.69787332566</td><td>112.0</td><td>0.0789367588655</td><td>9.77022655924e-16</td><td>1.10511462412e-16</td><td>1.85931568606e+38</td><td>4.53635595298e+37</td><td>2.21046344508e+39</td><td>7.2816102119e+38</td><td>39.3444833373</td><td>0.143063353589</td><td>./fits files/Other Supernova/SN2013cs/1/AIS_234/AIS_234_sg45-fd-int.fits</td></tr>\n",
       "<tr><td>SN2013da</td><td>0.0216</td><td>0.00100092537706</td><td>0.00136703185347</td><td>0.000126639324164</td><td>1.66570458015</td><td>120.0</td><td>0.117817111415</td><td>2.3319864122e-15</td><td>1.64943955981e-16</td><td>2.41215994411e+39</td><td>2.80386087755e+38</td><td>5.2759991668e+39</td><td>7.84213720171e+38</td><td>39.7223047183</td><td>0.0645526431176</td><td>./fits files/Other Supernova/SN2013da/1/AIS_235/AIS_235_sg08-fd-int.fits</td></tr>\n",
       "<tr><td>SN2013fn</td><td>0.027</td><td>0.00100105646716</td><td>0.000876967317159</td><td>6.48224555063e-05</td><td>0.0</td><td>192.0</td><td>0.0</td><td>0.0</td><td>0.0</td><td>0.0</td><td>0.0</td><td>0.0</td><td>0.0</td><td>-inf</td><td>nan</td><td>./fits files/Other Supernova/SN2013fn/1/AIS_248/AIS_248_sg12-fd-int.fits</td></tr>\n",
       "<tr><td>SN2013fw</td><td>0.01695</td><td>0.00100083582717</td><td>0.00221547658734</td><td>0.00026249124877</td><td>0.424006803784</td><td>121.0</td><td>0.0591961865348</td><td>5.93609525297e-16</td><td>8.28746611487e-17</td><td>3.78871917848e+38</td><td>6.91735745105e+37</td><td>1.34301098175e+39</td><td>2.92308760456e+38</td><td>39.1280795639</td><td>0.0945249766407</td><td>./fits files/Other Supernova/SN2013fw/1/AIS_160/AIS_160_sg46-fd-int.fits</td></tr>\n",
       "<tr><td>SN2014aa</td><td>0.01698</td><td>0.0010008363357</td><td>0.00220768376594</td><td>0.000261097777019</td><td>0.127543060284</td><td>2915.1</td><td>0.00661457098536</td><td>1.78560284398e-16</td><td>9.2603993795e-18</td><td>1.1436857894e+38</td><td>1.4683719911e+37</td><td>4.03983448094e+38</td><td>7.05192564506e+37</td><td>38.6063635717</td><td>0.0758103434409</td><td>./fits files/Other Supernova/SN2014aa/1/A1367_SPEC_A/A1367_SPEC_A-fd-int.fits</td></tr>\n",
       "<tr><td>SN2014J</td><td>0.00068</td><td>0.00100069251663</td><td>1.36688707629</td><td>2.9596124167</td><td>64.6071952786</td><td>11527.35</td><td>0.0748644625885</td><td>9.045007339e-14</td><td>1.04810247624e-16</td><td>9.35696502789e+37</td><td>2.75355170517e+38</td><td>2.04638633118e+41</td><td>7.47649782623e+41</td><td>41.3109876263</td><td>1.58670027278</td><td>./fits files/Other Supernova/SN2014J/2/NGA_M82/NGA_M82-fd-int.fits</td></tr>\n",
       "<tr><td>SNhunt175</td><td>0.0409</td><td>0.00100152776319</td><td>0.000384519756021</td><td>1.86838725641e-05</td><td>0.00420656815512</td><td>188.0</td><td>0.00473025998591</td><td>5.88919541716e-18</td><td>6.62236398027e-18</td><td>2.16568868464e+37</td><td>2.43757066419e+37</td><td>1.33240013542e+37</td><td>1.50106733468e+37</td><td>37.1246346682</td><td>0.489271385589</td><td>./fits files/Other Supernova/SNhunt175/1/AIS_357/AIS_357_sg54-fd-int.fits</td></tr>\n",
       "<tr><td>SNhunt206</td><td>0.027</td><td>0.00100105646716</td><td>0.000876967317159</td><td>6.48224555063e-05</td><td>0.00805636387759</td><td>312.05</td><td>0.00508109678126</td><td>1.12789094286e-17</td><td>7.11353549376e-18</td><td>1.81862191801e+37</td><td>1.15480076385e+37</td><td>2.55179517498e+37</td><td>1.63129740944e+37</td><td>37.4068458119</td><td>0.277633357962</td><td>./fits files/Other Supernova/SNhunt206/1/AIS_184/AIS_184_sg72-fd-int.fits</td></tr>\n",
       "<tr><td>SNhunt263</td><td>0.0268</td><td>0.00100105109283</td><td>0.00089002730169</td><td>6.62841003528e-05</td><td>0.0345924542319</td><td>125.0</td><td>0.0166354935483</td><td>4.84294359246e-17</td><td>2.32896909676e-17</td><td>7.69422357819e+37</td><td>3.7440121021e+37</td><td>1.09569104798e+38</td><td>5.39372033161e+37</td><td>38.0396881134</td><td>0.213788638801</td><td>./fits files/Other Supernova/SNhunt263/1/AIS_85/AIS_85_sg15-fd-int.fits</td></tr>\n",
       "</table>"
      ],
      "text/plain": [
       "<Table masked=False length=148>\n",
       " Sn Name  ...\n",
       " str3328  ...\n",
       "--------- ...\n",
       " SN2008fr ...\n",
       " SN2005eq ...\n",
       "  SN2010Y ...\n",
       " SN2005ch ...\n",
       " SN2010jv ...\n",
       " SN2008fv ...\n",
       " SN2007sr ...\n",
       "  SN2006X ...\n",
       " SN2008hy ...\n",
       " SN2009fv ...\n",
       "      ... ...\n",
       " SN2013ck ...\n",
       " SN2013cs ...\n",
       " SN2013da ...\n",
       " SN2013fn ...\n",
       " SN2013fw ...\n",
       " SN2014aa ...\n",
       "  SN2014J ...\n",
       "SNhunt175 ...\n",
       "SNhunt206 ...\n",
       "SNhunt263 ..."
      ]
     },
     "execution_count": 29,
     "metadata": {},
     "output_type": "execute_result"
    }
   ],
   "source": [
    "t"
   ]
  },
  {
   "cell_type": "code",
   "execution_count": 24,
   "metadata": {
    "collapsed": false
   },
   "outputs": [
    {
     "name": "stdout",
     "output_type": "stream",
     "text": [
      "Script finished\n"
     ]
    }
   ],
   "source": [
    "#Write data to an output file\n",
    "\n",
    "asc.write(out_unique[1:], output_file + uv_type + '.csv', names=out_unique[0], delimiter=\",\")\n",
    "asc.write(log[1:], output_file + uv_type + ' log.csv', names=log[0], delimiter=\",\")\n",
    "print('Script finished')\n"
   ]
  },
  {
   "cell_type": "code",
   "execution_count": null,
   "metadata": {
    "collapsed": false
   },
   "outputs": [],
   "source": []
  }
 ],
 "metadata": {
  "kernelspec": {
   "display_name": "Python 3",
   "language": "python",
   "name": "python3"
  },
  "language_info": {
   "codemirror_mode": {
    "name": "ipython",
    "version": 3
   },
   "file_extension": ".py",
   "mimetype": "text/x-python",
   "name": "python",
   "nbconvert_exporter": "python",
   "pygments_lexer": "ipython3",
   "version": "3.4.3"
  }
 },
 "nbformat": 4,
 "nbformat_minor": 0
}
