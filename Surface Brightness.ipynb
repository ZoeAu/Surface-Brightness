{
 "cells": [
  {
   "cell_type": "code",
   "execution_count": null,
   "metadata": {
    "collapsed": true
   },
   "outputs": [],
   "source": [
    "#Keep this line if you want matplotlib to show inline instead of a seperate window\n",
    "\n",
    "%matplotlib inline\n"
   ]
  },
  {
   "cell_type": "code",
   "execution_count": null,
   "metadata": {
    "collapsed": false
   },
   "outputs": [],
   "source": [
    "#User set parameters\n",
    "\n",
    "region_file=\"observed_target_info.reg\"\n",
    "\n",
    "fits_directory='./' #The directory to look for .fits files in   \n",
    "\n",
    "output_file=\"output \" #The output file name including the file extension\n",
    "\n",
    "uv_type = 'FUV' #FUV or NUV"
   ]
  },
  {
   "cell_type": "code",
   "execution_count": null,
   "metadata": {
    "collapsed": false
   },
   "outputs": [],
   "source": [
    "#General use\n",
    "import numpy as np\n",
    "from astropy.io import fits\n",
    "from astropy.cosmology import WMAP9 as cosmo\n",
    "\n",
    "#For creating a list of .fits files to perform photometry on\n",
    "import os\n",
    "\n",
    "#For reading and creating tables\n",
    "from astropy.table import Table, Column\n",
    "import astropy.io.ascii as asc\n",
    "\n",
    "#For performing photometry\n",
    "from astropy import units as u\n",
    "from photutils import aperture_photometry, SkyCircularAperture, CircularAperture\n",
    "from astropy.coordinates import SkyCoord\n",
    "from astropy.wcs import WCS\n",
    "\n",
    "#For generating a plot\n",
    "import matplotlib.pyplot as plt\n",
    "from matplotlib.backends.backend_pdf import PdfPages"
   ]
  },
  {
   "cell_type": "code",
   "execution_count": null,
   "metadata": {
    "collapsed": true
   },
   "outputs": [],
   "source": [
    "#We define functions used to calculate error\n",
    "\n",
    "def Conv_error(val,err): #uncertanty in the conversion factor from arcmin^2 to Kpc^2 using arguments (redshift, redshift error)\n",
    "    return(\n",
    "            abs(((1/cosmo.kpc_comoving_per_arcmin(val+err))**2-(1/cosmo.kpc_comoving_per_arcmin(val-err))**2)/2).value\n",
    "          )\n",
    "\n",
    "def Comov_error(val,err): #Uncertanty in the comoving_distance using arguments (redshift, redshift error)\n",
    "    return(\n",
    "            abs(((cosmo.comoving_distance(val+err).cgs)-(cosmo.comoving_distance(val-err).cgs))/2).value          \n",
    "                )\n",
    "\n",
    "def Flux_error(val_1,err_1): #uncertanty in flux using arguments (counts per second, error in counts per second)\n",
    "    return(\n",
    "        ((val_1*flux_conv_err)**2+(flux_conv*err_1)**2)**(1/2)\n",
    "            )\n",
    "\n",
    "def Luminosity_error(flux,flux_err,dist,dist_err): #The input 'dist' is Comoving Distance\n",
    "    return(\n",
    "        ((4*np.pi*(dist**2)*flux_err)**2+(8*np.pi*dist*flux*dist_err)**2)**(1/2)\n",
    "    )\n",
    "\n",
    "def Sbrightness_error(lum,lum_err,conv,conv_err): #Uncertanty in surface brightness\n",
    "    return(\n",
    "        ((conv*lum_err/pixel_area)**2+(lum*conv_err/pixel_area)**2+\n",
    "         (lum*conv*pixel_area_err/(pixel_area**2))**2)**(1/2)\n",
    "    )\n"
   ]
  },
  {
   "cell_type": "code",
   "execution_count": null,
   "metadata": {
    "collapsed": false
   },
   "outputs": [],
   "source": [
    "#We define a function to perform photometry on a .fits file. When given the file path of a .fits file it checks to see\n",
    "#if there is a supernova observed in that file. If it finds one it returns the supernova name, a table of photometry \n",
    "#results, and the .fits file's exposure time\n",
    "\n",
    "def photometry(fits_file):\n",
    "    #open the file and create an hdulist\n",
    "    hdulist = fits.open(fits_file)\n",
    "    sci = hdulist[0].data\n",
    "    wcs = WCS(fits_file)\n",
    "\n",
    "    for sn in cord:\n",
    "\n",
    "        #Define the SN location in pixels\n",
    "        w = wcs.all_world2pix(cord[sn].ra,cord[sn].dec, 1)\n",
    "        \n",
    "        #Make sure the sn is located in the image, and near the data pixels (aka 200 pixels away from the image edge)\n",
    "        if 0<w[0]<3600 and 0<w[1]<3600:\n",
    "\n",
    "            #get exposure time and calculate error array\n",
    "            exp_time = hdulist[0].header['EXPTIME']\n",
    "            error = ((hdulist[0].data*exp_time)**(1/2))/exp_time\n",
    "            \n",
    "            #Find arcmin of 1kpc radius region\n",
    "            r = 2*u.kpc/cosmo.kpc_comoving_per_arcmin(float(red[sn]))\n",
    "            \n",
    "            #Create an aperture\n",
    "            aperture = SkyCircularAperture(cord[sn], r) \n",
    "            \n",
    "\n",
    "            #Perfom photometry\n",
    "            phot_table = aperture_photometry(hdulist[0], aperture, error=error)\n",
    "            \n",
    "\n",
    "            #We add values to their respective lists, which will be writen to the output file. \n",
    "            #Note that if the photometry = 0, we run zero_check which lets the user manually determine if \n",
    "            #the aperture is in the data region\n",
    "            if phot_table[0][0]!=0:\n",
    "                return([sn,phot_table,hdulist[0].header['EXPTIME']])\n",
    "            \n",
    "            elif zero_check(fits_file, cord[sn], r)==True:\n",
    "                return([sn,phot_table,hdulist[0].header['EXPTIME']])\n",
    "            \n",
    "            elif zero_check(fits_file, cord[sn], r)=='none':\n",
    "                return('none')\n",
    "            \n",
    "    #close the hdulist\n",
    "    hdulist.close()\n",
    "    return(False)\n",
    "\n"
   ]
  },
  {
   "cell_type": "code",
   "execution_count": null,
   "metadata": {
    "collapsed": true
   },
   "outputs": [],
   "source": [
    "#The zero_check function is passed a .fits file, along with the cordinates and radius of an aperture. It then performs\n",
    "#photometry on a wt file and determines if there are data pixels in the aperture.\n",
    "\n",
    "def zero_check(fits_file, cord, r):\n",
    "\n",
    "    try: \n",
    "        hdulist = fits.open(fits_file.replace(file_key,check_file_key))\n",
    "        aperture = SkyCircularAperture(cord, r)\n",
    "        phot_table = aperture_photometry(hdulist[0], aperture)\n",
    "        return(phot_table[0][0]!=0)\n",
    "    \n",
    "    except:\n",
    "        return('none')\n",
    "\n"
   ]
  },
  {
   "cell_type": "code",
   "execution_count": null,
   "metadata": {
    "collapsed": false
   },
   "outputs": [],
   "source": [
    "#Automatically set parameters\n",
    "\n",
    "if 'N' in uv_type.upper():\n",
    "    \n",
    "    file_key = \"nd-int\" #A string located in all the files you want to analyze in fits_directory\n",
    "    check_file_key = \"nd-wt\" #A string to replace file_key when running photometry on the check file\n",
    "    flux_conv = 2.06*(10**(-16)) \n",
    "    plot_name = 'Supernova Region Brightness in the NUV'\n",
    "        \n",
    "elif 'F' in uv_type.upper():\n",
    "    file_key = \"fd-int\" \n",
    "    check_file_key = \"fd-wt\" \n",
    "    flux_conv = 1.40*10**(-15) \n",
    "    plot_name = 'Supernova Region Brightness in the FUV'\n",
    "\n",
    "\n",
    "flux_conv_err = 0 #error in flux_conv\n",
    "pixel_area=(1.5/60)**2 #Arcmin^2 per pixel - given in arcseconds, converted to arcmin, and squared to find area in arcmin^2.\n",
    "pixel_area_err = 0 #error in pixel_area\n",
    "\n",
    "\n",
    "            # A conversion factor from pixel count to flux in units of (erg cm-2 Å-1)/(N/s)\n",
    "            #NUV: Flux = 2.06*10**(-16) x CPS, FUV: Flux = 1.40*10**(-15) x CPS\n",
    "            #Reference: http://asd.gsfc.nasa.gov/archive/galex/FAQ/counts_background.html"
   ]
  },
  {
   "cell_type": "code",
   "execution_count": null,
   "metadata": {
    "collapsed": false
   },
   "outputs": [],
   "source": [
    "#We create a list of .fits files to perform photometry on\n",
    "\n",
    "file_list = []\n",
    "\n",
    "for path, subdirs, files in os.walk(fits_directory):\n",
    "    for name in files:\n",
    "        if file_key in name: file_list.append(os.path.join(path, name))\n"
   ]
  },
  {
   "cell_type": "code",
   "execution_count": null,
   "metadata": {
    "collapsed": false
   },
   "outputs": [],
   "source": [
    "#Create a dictionary of coordinates (in degrees) and redshift by using values from the .reg file\n",
    "\n",
    "reg = asc.read(region_file, data_start=2, delimiter = \"#\", header_start=2)\n",
    "cord, red = {}, {}\n",
    "\n",
    "for row in reg: \n",
    "    cord[row[1].split(\",\")[0].strip('text={}')] = SkyCoord(row[0].strip('point()').replace(',',' '), unit=(u.hourangle, u.deg))\n",
    "    red[row[1].split(\",\")[0].strip('text={}')] = row[1].split(\",\")[2].strip('}').replace('z=','')\n"
   ]
  },
  {
   "cell_type": "code",
   "execution_count": null,
   "metadata": {
    "collapsed": false
   },
   "outputs": [],
   "source": [
    "#We define lists and an array for the output files\n",
    "\n",
    "n=0\n",
    "log = np.array([['Issue', 'File Path']])\n",
    "out = np.array([['Sn Name', 'Red shift', 'Redshift error', 'ArcMin^2 per Kpc^2 at Redshift', 'ArcMin^2 / Kpc^2 error', 'Photometry', 'Exposure Time (s)', 'Photometry Error N^(1/2)/s', 'Flux (erg s-1 cm-2 A-1 px-1)', 'Flux error (erg s-1 cm-2 A-1 px-1)', 'Luminosity (erg s-1 A-1 px-1)', 'Luminosity Error (erg s-1 A-1 px-1)', 'Surface Brightness (erg s-1 A-1 Kpc^-2)', 'Surface Brightness error (erg s-1 A-1 Kpc^-2)', 'log10 of Surface Brightness', 'Error in log10', 'File Path']])\n",
    "\n",
    "#We perform photometry on each .fits file\n",
    "\n",
    "for fits_file in file_list:\n",
    "\n",
    "    p = photometry(fits_file)\n",
    "    \n",
    "    if p==False: \n",
    "        log = np.vstack((log, np.array([['No Supernova Found', fits_file]])))\n",
    "        \n",
    "    elif p=='none':\n",
    "        log = np.vstack((log, np.array([['No Check File', fits_file]])))\n",
    "  \n",
    "    else:\n",
    "        n+=1\n",
    "        \n",
    "        #We calculate the values in the table\n",
    "        \n",
    "        redshift = float(red[p[0]])\n",
    "        redshift_err = ((redshift/1000)**2+(300/(299792.458))**2)**(1/2) #Error in redshift taken as 1 in 1000 with an additional 300 km/s contribution from peculiar velocity\n",
    "        \n",
    "        arcmin = (1/cosmo.kpc_comoving_per_arcmin(redshift).value)**2\n",
    "        arcmin_err = Conv_error(redshift, redshift_err)\n",
    "        \n",
    "        photom = p[1][0][0]\n",
    "        photom_err = p[1][0][1]\n",
    "        \n",
    "        flux = flux_conv*photom #convert cps to flux using the conversion factor\n",
    "        flux_err = Flux_error(photom,photom_err)\n",
    "        \n",
    "        cmd = cosmo.comoving_distance(redshift).cgs.value #Comoving Distance at Redshift (cm)\n",
    "        cmd_err = Comov_error(redshift,redshift_err)\n",
    "        \n",
    "        lum = flux*4*np.pi*(cmd**2) #luminosity = flux*4*pi*r^2\n",
    "        lum_err = Luminosity_error(flux,flux_err,cmd,cmd_err)\n",
    "        \n",
    "        sbrightness = (lum/pixel_area)*arcmin\n",
    "        sbrightness_err = Sbrightness_error(lum,lum_err,arcmin,arcmin_err)\n",
    "        \n",
    "        log_sbrightness = np.log10(sbrightness)\n",
    "        log_sbrightness_err = sbrightness_err/(sbrightness*np.log(10))\n",
    "        \n",
    "        row = np.array([[p[0] , redshift, redshift_err, arcmin, arcmin_err, photom, p[2],\n",
    "                         photom_err, flux, flux_err, lum, lum_err, sbrightness, sbrightness_err,\n",
    "                        log_sbrightness, log_sbrightness_err, fits_file]])\n",
    "        \n",
    "        out = np.vstack((out, row))\n",
    "        \n",
    "\n",
    "print('\\nPhotometry finished:', n, 'supernova oberved.')"
   ]
  },
  {
   "cell_type": "code",
   "execution_count": null,
   "metadata": {
    "collapsed": false
   },
   "outputs": [],
   "source": [
    "#We keep only the results for each supernova with the smallest error values\n",
    "\n",
    "out_unique = out[0,:] #We create a new array with the first row of out. This row contains the collumn names 'Sn Name', 'Red shift', 'Redshift error', etc. \n",
    "\n",
    "for entry in out: \n",
    "    if entry[0] not in out_unique:\n",
    "        out_unique = np.vstack((out_unique,entry))\n",
    "    else: \n",
    "        for row in out_unique:\n",
    "            if entry[0]==row[0] and entry[13]<row[13]: row=entry\n"
   ]
  },
  {
   "cell_type": "code",
   "execution_count": null,
   "metadata": {
    "collapsed": false
   },
   "outputs": [],
   "source": [
    "#We create a plot of the results and write them to a pdf file\n",
    "   \n",
    "t = Table(out_unique[1:], names=out_unique[0], dtype=(str, 'float64', 'float64', 'float64', 'float64', 'float64', 'float64', 'float64', 'float64', 'float64', 'float64', 'float64', 'float64', 'float64', 'float64', 'float64', str))\n",
    "\n",
    "ax = plt.gca()\n",
    "ax.errorbar(t['Red shift'], t['Surface Brightness (erg s-1 A-1 Kpc^-2)'], xerr=None, yerr=t['Surface Brightness error (erg s-1 A-1 Kpc^-2)'], color='black', linestyle='')\n",
    "ax.plot(t['Red shift'], t['Surface Brightness (erg s-1 A-1 Kpc^-2)'],'.')\n",
    "ax.set_yscale('log')\n",
    "\n",
    "plt.xlabel('Redshift')\n",
    "plt.ylabel('log 10 of Surface Brightness')\n",
    "plt.title(plot_name)\n",
    "\n",
    "plt.savefig(output_file + uv_type + ' plot.pdf')\n",
    "plt.show()\n",
    "plt.close()\n",
    "\n"
   ]
  },
  {
   "cell_type": "code",
   "execution_count": null,
   "metadata": {
    "collapsed": false
   },
   "outputs": [],
   "source": [
    "#Write data to an output file specified by the output_file object\n",
    "\n",
    "asc.write(out_unique[1:], output_file + uv_type + '.csv', names=out_unique[0], delimiter=\",\")\n",
    "asc.write(log[1:], output_file + uv_type + ' log.csv', names=log[0], delimiter=\",\")\n",
    "print('Script finished')"
   ]
  },
  {
   "cell_type": "code",
   "execution_count": null,
   "metadata": {
    "collapsed": true
   },
   "outputs": [],
   "source": []
  }
 ],
 "metadata": {
  "kernelspec": {
   "display_name": "Python 3",
   "language": "python",
   "name": "python3"
  },
  "language_info": {
   "codemirror_mode": {
    "name": "ipython",
    "version": 3
   },
   "file_extension": ".py",
   "mimetype": "text/x-python",
   "name": "python",
   "nbconvert_exporter": "python",
   "pygments_lexer": "ipython3",
   "version": "3.4.3"
  }
 },
 "nbformat": 4,
 "nbformat_minor": 0
}
