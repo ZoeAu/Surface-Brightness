{
 "cells": [
  {
   "cell_type": "code",
   "execution_count": 2,
   "metadata": {
    "collapsed": false
   },
   "outputs": [],
   "source": [
    "from astroquery.ned import Ned\n",
    "from astropy.table import Table\n"
   ]
  },
  {
   "cell_type": "code",
   "execution_count": 24,
   "metadata": {
    "collapsed": false
   },
   "outputs": [],
   "source": [
    "sn_names = Table.read('./fits files/Rigault 15 Supernova/R15 sn list.csv', format = 'ascii.csv')\n",
    "data_table = Table(names = ['sn', 'RA(deg)', 'DEC(deg)'], dtype = ['S10', 'float64', 'float64'])\n",
    "\n",
    "for row in sn_names:\n",
    "    try:\n",
    "        ned_table = Ned.query_object('sn' + row[0])\n",
    "        data_table.add_row([row[0], ned_table['RA(deg)'][0], ned_table['DEC(deg)'][0]])\n",
    "        \n",
    "    except Exception as e:\n",
    "        print(row[0], e, '\\n')\n",
    "    "
   ]
  },
  {
   "cell_type": "code",
   "execution_count": 26,
   "metadata": {
    "collapsed": false
   },
   "outputs": [
    {
     "data": {
      "text/html": [
       "&lt;Table masked=False length=115&gt;\n",
       "<table id=\"table4436040896\">\n",
       "<thead><tr><th>sn</th><th>RA(deg)</th><th>DEC(deg)</th></tr></thead>\n",
       "<thead><tr><th>bytes80</th><th>float64</th><th>float64</th></tr></thead>\n",
       "<tr><td>1990O</td><td>258.90069</td><td>16.32203</td></tr>\n",
       "<tr><td>1990af</td><td>323.74752</td><td>-62.73709</td></tr>\n",
       "<tr><td>1991U</td><td>200.84193</td><td>-26.10915</td></tr>\n",
       "<tr><td>1992J</td><td>152.25028</td><td>-26.64214</td></tr>\n",
       "<tr><td>1992P</td><td>190.70386</td><td>10.36007</td></tr>\n",
       "<tr><td>1992ae</td><td>322.07476</td><td>-61.55038</td></tr>\n",
       "<tr><td>1992ag</td><td>201.04106</td><td>-23.8788</td></tr>\n",
       "<tr><td>1992bg</td><td>115.48563</td><td>-62.51946</td></tr>\n",
       "<tr><td>1992bh</td><td>74.86282</td><td>-58.8304</td></tr>\n",
       "<tr><td>1992bk</td><td>55.75869</td><td>-53.61873</td></tr>\n",
       "<tr><td>...</td><td>...</td><td>...</td></tr>\n",
       "<tr><td>2007ae</td><td>255.46646</td><td>79.03183</td></tr>\n",
       "<tr><td>2007ai</td><td>243.22392</td><td>-21.63019</td></tr>\n",
       "<tr><td>2007ar</td><td>200.25804</td><td>58.55067</td></tr>\n",
       "<tr><td>2007ba</td><td>229.17763</td><td>7.39661</td></tr>\n",
       "<tr><td>2007bd</td><td>127.88867</td><td>-1.19944</td></tr>\n",
       "<tr><td>2007cg</td><td>201.38992</td><td>-24.65225</td></tr>\n",
       "<tr><td>2007co</td><td>275.765</td><td>29.89711</td></tr>\n",
       "<tr><td>2007cg</td><td>201.38992</td><td>-24.65225</td></tr>\n",
       "<tr><td>2008af</td><td>224.86875</td><td>16.65342</td></tr>\n",
       "<tr><td>2008bf</td><td>181.01208</td><td>20.24517</td></tr>\n",
       "</table>"
      ],
      "text/plain": [
       "<Table masked=False length=115>\n",
       "   sn    RA(deg)   DEC(deg)\n",
       "bytes80  float64   float64 \n",
       "------- --------- ---------\n",
       "  1990O 258.90069  16.32203\n",
       " 1990af 323.74752 -62.73709\n",
       "  1991U 200.84193 -26.10915\n",
       "  1992J 152.25028 -26.64214\n",
       "  1992P 190.70386  10.36007\n",
       " 1992ae 322.07476 -61.55038\n",
       " 1992ag 201.04106  -23.8788\n",
       " 1992bg 115.48563 -62.51946\n",
       " 1992bh  74.86282  -58.8304\n",
       " 1992bk  55.75869 -53.61873\n",
       "    ...       ...       ...\n",
       " 2007ae 255.46646  79.03183\n",
       " 2007ai 243.22392 -21.63019\n",
       " 2007ar 200.25804  58.55067\n",
       " 2007ba 229.17763   7.39661\n",
       " 2007bd 127.88867  -1.19944\n",
       " 2007cg 201.38992 -24.65225\n",
       " 2007co   275.765  29.89711\n",
       " 2007cg 201.38992 -24.65225\n",
       " 2008af 224.86875  16.65342\n",
       " 2008bf 181.01208  20.24517"
      ]
     },
     "execution_count": 26,
     "metadata": {},
     "output_type": "execute_result"
    }
   ],
   "source": [
    "data_table"
   ]
  },
  {
   "cell_type": "code",
   "execution_count": null,
   "metadata": {
    "collapsed": true
   },
   "outputs": [],
   "source": []
  }
 ],
 "metadata": {
  "kernelspec": {
   "display_name": "Python 3",
   "language": "python",
   "name": "python3"
  },
  "language_info": {
   "codemirror_mode": {
    "name": "ipython",
    "version": 3
   },
   "file_extension": ".py",
   "mimetype": "text/x-python",
   "name": "python",
   "nbconvert_exporter": "python",
   "pygments_lexer": "ipython3",
   "version": "3.4.3"
  }
 },
 "nbformat": 4,
 "nbformat_minor": 0
}
