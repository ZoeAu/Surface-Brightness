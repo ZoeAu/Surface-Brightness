{
 "cells": [
  {
   "cell_type": "code",
   "execution_count": 5,
   "metadata": {
    "collapsed": false
   },
   "outputs": [],
   "source": [
    "import astropy.io.ascii as asc\n",
    "import os\n",
    "import ntpath\n",
    "import shutil\n"
   ]
  },
  {
   "cell_type": "code",
   "execution_count": 20,
   "metadata": {
    "collapsed": false
   },
   "outputs": [],
   "source": [
    "#Initial parameters\n",
    "log_file_path = 'output log.csv' #File path of the log file\n",
    "ignore_directory = 'Other Supernova' #If you want to ignore a directory, put it here\n",
    "\n",
    "\n",
    "log_file = asc.read(log_file_path, delimiter = ',')\n",
    "for row in log_file:\n",
    "    if (ignore_directory == '' or ignore_directory not in row['File Path']):\n",
    "        \n",
    "        #Get the directory of the .fits file\n",
    "        directory = os.path.dirname((row['File Path']))\n",
    "        \n",
    "        #Get the next directory up\n",
    "        directory_up = os.path.dirname(os.path.dirname((row['File Path'])))\n",
    "    \n",
    "        if row['Issue'] == 'No Check File':\n",
    "            #The directory we will copy to\n",
    "            new_directory = os.path.join(directory_up, 'no check file')\n",
    "            \n",
    "            #Make sure this directory exists\n",
    "            if not os.path.exists(new_directory): os.makedirs(new_directory)\n",
    "            \n",
    "            #Move the directory\n",
    "            try:\n",
    "                shutil.move(directory, new_directory)\n",
    "            except:\n",
    "                pass\n",
    "            \n",
    "        elif row['Issue'] == 'Failed Check File':\n",
    "            new_directory = os.path.join(directory_up, 'failed check file')\n",
    "            \n",
    "            if not os.path.exists(new_directory): os.makedirs(new_directory)\n",
    "            \n",
    "            try:\n",
    "                shutil.move(directory, new_directory)\n",
    "            except:\n",
    "                pass\n",
    "            \n",
    "        elif row['Issue'] == 'No Supernova Found':\n",
    "            new_directory = os.path.join(directory_up, 'no supernova')\n",
    "            \n",
    "            if not os.path.exists(new_directory): os.makedirs(new_directory)\n",
    "            \n",
    "            try:\n",
    "                shutil.move(directory, new_directory)  \n",
    "            except:\n",
    "                pass\n",
    "            \n",
    "        else:\n",
    "            print('Unkown entry for', row['File Path'])\n",
    "            print(row['Issue'],'/n')\n",
    "            "
   ]
  },
  {
   "cell_type": "code",
   "execution_count": null,
   "metadata": {
    "collapsed": true
   },
   "outputs": [],
   "source": []
  }
 ],
 "metadata": {
  "kernelspec": {
   "display_name": "Python 3",
   "language": "python",
   "name": "python3"
  },
  "language_info": {
   "codemirror_mode": {
    "name": "ipython",
    "version": 3
   },
   "file_extension": ".py",
   "mimetype": "text/x-python",
   "name": "python",
   "nbconvert_exporter": "python",
   "pygments_lexer": "ipython3",
   "version": "3.4.3"
  }
 },
 "nbformat": 4,
 "nbformat_minor": 0
}
