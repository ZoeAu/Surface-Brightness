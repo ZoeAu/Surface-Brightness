{
 "cells": [
  {
   "cell_type": "code",
   "execution_count": null,
   "metadata": {
    "collapsed": true,
    "scrolled": true
   },
   "outputs": [],
   "source": [
    "#!/usr/bin/env python3"
   ]
  },
  {
   "cell_type": "code",
   "execution_count": null,
   "metadata": {
    "collapsed": false,
    "scrolled": true
   },
   "outputs": [],
   "source": [
    "import zipfile, os, gzip\n",
    "directory = \"/Volumes/Media RED/fits files/Friedman 15 Supernova\"\n",
    "    \n",
    "for path, subdirs, files in os.walk(directory):\n",
    "    for name in files:\n",
    "        if \".gz\" in name and '._' not in name:\n",
    "            \n",
    "            print(path+name)\n",
    "            inF = gzip.open(os.path.join(path, name), 'rb')\n",
    "            data = inF.read()\n",
    "            inF.close()\n",
    "\n",
    "            outF = open(os.path.join(path, name).replace('.gz',''), 'wb')\n",
    "            outF.write(data)\n",
    "            outF.close()\n",
    "            \n",
    "            os.remove(os.path.join(path, name))\n",
    "            \n",
    "        elif \".zip\" in name and '._' not in name:\n",
    "\n",
    "            print(path+name)\n",
    "            zip_ref = zipfile.ZipFile(os.path.join(path, name), 'r')\n",
    "            zip_ref.extractall(path)\n",
    "            zip_ref.close()\n",
    "            \n",
    "            os.remove(os.path.join(path, name))"
   ]
  },
  {
   "cell_type": "code",
   "execution_count": null,
   "metadata": {
    "collapsed": true,
    "scrolled": true
   },
   "outputs": [],
   "source": []
  }
 ],
 "metadata": {
  "kernelspec": {
   "display_name": "Python 3",
   "language": "python",
   "name": "python3"
  },
  "language_info": {
   "codemirror_mode": {
    "name": "ipython",
    "version": 3
   },
   "file_extension": ".py",
   "mimetype": "text/x-python",
   "name": "python",
   "nbconvert_exporter": "python",
   "pygments_lexer": "ipython3",
   "version": "3.4.3"
  }
 },
 "nbformat": 4,
 "nbformat_minor": 0
}
