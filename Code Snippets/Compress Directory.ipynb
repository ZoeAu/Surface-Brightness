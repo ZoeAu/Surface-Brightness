{
 "cells": [
  {
   "cell_type": "code",
   "execution_count": null,
   "metadata": {
    "collapsed": true,
    "scrolled": true
   },
   "outputs": [],
   "source": [
    "#!/usr/bin/env python3"
   ]
  },
  {
   "cell_type": "code",
   "execution_count": null,
   "metadata": {
    "collapsed": false,
    "scrolled": true
   },
   "outputs": [],
   "source": [
    "import os, gzip, shutil\n",
    "in_directory = \"/Volumes/Media RED/fits files/Rigault 15 Supernova/\"\n",
    "out_directory =  in_directory.rstrip('/') + ' comp/'\n",
    "\n",
    "n = 0\n",
    "\n",
    "if os.path.exists(in_directory):\n",
    "    for path, subdirs, files in os.walk(in_directory):\n",
    "        for name in files:\n",
    "            if \".fits\" in name:\n",
    "                \n",
    "                in_path = os.path.join(path, name)\n",
    "                out_dir = path.replace(in_directory, out_directory)\n",
    "                out_path = os.path.join(out_dir, name + '.gz')\n",
    "                \n",
    "                if not os.path.exists(out_dir):\n",
    "                    os.makedirs(out_dir)\n",
    "                \n",
    "                print(n, in_path, flush = True)\n",
    "                with open(in_path, 'rb') as f_in, gzip.open(out_path, 'wb') as f_out:\n",
    "                    shutil.copyfileobj(f_in, f_out)\n",
    "                \n",
    "                n += 1\n",
    "                \n",
    "    print('Finished')\n",
    "    \n",
    "else:\n",
    "    print(\"Input directory does not exist\")"
   ]
  },
  {
   "cell_type": "code",
   "execution_count": null,
   "metadata": {
    "collapsed": true,
    "scrolled": true
   },
   "outputs": [],
   "source": []
  }
 ],
 "metadata": {
  "kernelspec": {
   "display_name": "Python 3",
   "language": "python",
   "name": "python3"
  },
  "language_info": {
   "codemirror_mode": {
    "name": "ipython",
    "version": 3
   },
   "file_extension": ".py",
   "mimetype": "text/x-python",
   "name": "python",
   "nbconvert_exporter": "python",
   "pygments_lexer": "ipython3",
   "version": "3.4.3"
  }
 },
 "nbformat": 4,
 "nbformat_minor": 0
}
