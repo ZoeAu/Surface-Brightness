{
 "cells": [
  {
   "cell_type": "code",
   "execution_count": 1,
   "metadata": {
    "collapsed": false,
    "scrolled": true
   },
   "outputs": [
    {
     "name": "stderr",
     "output_type": "stream",
     "text": [
      "/Users/Daniel/anaconda/lib/python3.4/site-packages/IPython/kernel/__init__.py:13: ShimWarning: The `IPython.kernel` package has been deprecated. You should import from ipykernel or jupyter_client instead.\n",
      "  \"You should import from ipykernel or jupyter_client instead.\", ShimWarning)\n"
     ]
    }
   ],
   "source": [
    "import os\n",
    "import sys\n",
    "\n",
    "from astropy.coordinates import SkyCoord\n",
    "from astropy import units as u\n",
    "from astropy.table import Table, unique, vstack, join, Column\n",
    "\n",
    "sys.path.insert(0, '..')\n",
    "from surface_brightness import surface_brightness\n"
   ]
  },
  {
   "cell_type": "code",
   "execution_count": 2,
   "metadata": {
    "collapsed": true,
    "scrolled": true
   },
   "outputs": [],
   "source": [
    "#Input / Output Information\n",
    "input_data_table = 'Rigault 2015 data table.csv'\n",
    "fits_directory = '/Volumes/Media RED/fits files/Rigault 15 Supernova' #The directory to look for .fits files in\n",
    "output_file_name = \"Rigault 2015\" #The output file name without an extension\n"
   ]
  },
  {
   "cell_type": "code",
   "execution_count": null,
   "metadata": {
    "collapsed": false,
    "scrolled": false
   },
   "outputs": [
    {
     "name": "stdout",
     "output_type": "stream",
     "text": [
      "Calculating NUV values using a 2kpc radius aperture\n",
      "\n",
      "290 : /Volumes/Media RED/fits files/Rigault 15 Supernova/2415374296051351552/MISDR1_33982_0341-nd-int.fits\n",
      "289 : /Volumes/Media RED/fits files/Rigault 15 Supernova/2416183536609394688/MISDR1_10093_0354-nd-int.fits\n",
      "288 : /Volumes/Media RED/fits files/Rigault 15 Supernova/2422868567306272768/MISDR1_18848_0459-nd-int.fits\n",
      "287 : /Volumes/Media RED/fits files/Rigault 15 Supernova/2482506077996843008/NGA_NGC0541-nd-int.fits\n",
      "286 : /Volumes/Media RED/fits files/Rigault 15 Supernova/2487467074461368320/NGA_Arp105-nd-int.fits\n",
      "285 : /Volumes/Media RED/fits files/Rigault 15 Supernova/2502561170087477248/NGA_UGC1922-nd-int.fits\n",
      "284 : /Volumes/Media RED/fits files/Rigault 15 Supernova/2836671967443025920/MISDR2_00589_0559-nd-int.fits\n",
      "283 : /Volumes/Media RED/fits files/Rigault 15 Supernova/2906442577295179776/MISWZS22_20251_0162-nd-int.fits\n",
      "282 : /Volumes/Media RED/fits files/Rigault 15 Supernova/2906653683527712768/MISWZS22_20672_0261-nd-int.fits\n",
      "281 : /Volumes/Media RED/fits files/Rigault 15 Supernova/2915555329666187264/MISWZS01_29158_0269-nd-int.fits\n",
      "280 : /Volumes/Media RED/fits files/Rigault 15 Supernova/2918862660642537472/MISWZS01_29124_0266-nd-int.fits\n",
      "279 : /Volumes/Media RED/fits files/Rigault 15 Supernova/2928608731711143936/MISWZN11_12277_0314-nd-int.fits\n",
      "278 : /Volumes/Media RED/fits files/Rigault 15 Supernova/2934941918687133696/MISWZN15_35690_0338-nd-int.fits\n",
      "277 : /Volumes/Media RED/fits files/Rigault 15 Supernova/2946341655243915264/MISWZN11_12305_0314-nd-int.fits\n"
     ]
    }
   ],
   "source": [
    "if os.path.exists(fits_directory) and os.listdir(fits_directory):\n",
    "    cord_dict = {} #for supernova coordinates\n",
    "    red_dict = {}#for supernova redshifts\n",
    "    \n",
    "    rigault_15_table = Table.read(input_data_table, format = 'csv')\n",
    "    for row in rigault_15_table:\n",
    "        red_dict[row['sn']] = row['z']\n",
    "        cord_dict[row['sn']] = SkyCoord(row['RA'] + ' ' + row['Dec'], unit = (u.hourangle, u.deg))\n",
    "    \n",
    "    brightness = surface_brightness(cord_dict, red_dict)\n",
    "    \n",
    "    print('Calculating NUV values using a 2kpc radius aperture\\n', flush = True)\n",
    "    nuv_2kpc = brightness.create_tables('NUV', fits_directory, 2, show_list = True)\n",
    "    \n",
    "    print('\\nCalculating FUV values using a 2kpc radius aperture\\n', flush = True)\n",
    "    fuv_2kpc = brightness.create_tables('FUV', fits_directory, 2, show_list = True)\n",
    "\n",
    "elif not os.path.exists(fits_directory):\n",
    "    print('Specified directory of .fits files does not exist')\n",
    "    \n",
    "else:\n",
    "    print('Specified directory of .fits files is empty')"
   ]
  },
  {
   "cell_type": "code",
   "execution_count": null,
   "metadata": {
    "collapsed": true,
    "scrolled": true
   },
   "outputs": [],
   "source": [
    "    nuv_2 = nuv_2kpc\n",
    "    fuv_2 = fuv_2kpc\n",
    "    \n",
    "    merged_table = join(nuv_2[0], fuv_2[0], join_type = 'outer', keys = 'sn')\n",
    "    merged_table.rename_column('NUV 2kpc Exposure Time', 'NUV Exposure Time')\n",
    "    merged_table.rename_column('FUV 2kpc Exposure Time', 'FUV Exposure Time')\n",
    "    merged_table.rename_column('Redshift_1', 'Redshift')\n",
    "    merged_table.rename_column('Redshift Error_1', 'Redshift Error')\n",
    "    \n",
    "    for row in merged_table:\n",
    "        if str(row[\"Redshift\"]) == \"--\":\n",
    "            row[\"Redshift\"] = row[\"Redshift_2\"]\n",
    "            row[\"Redshift Error\"] = row[\"Redshift Error_2\"]\n",
    "    \n",
    "    merged_table.remove_columns([\"Redshift_2\", \"Redshift Error_2\"])"
   ]
  },
  {
   "cell_type": "code",
   "execution_count": null,
   "metadata": {
    "collapsed": true
   },
   "outputs": [],
   "source": []
  }
 ],
 "metadata": {
  "kernelspec": {
   "display_name": "Python 3",
   "language": "python",
   "name": "python3"
  },
  "language_info": {
   "codemirror_mode": {
    "name": "ipython",
    "version": 3
   },
   "file_extension": ".py",
   "mimetype": "text/x-python",
   "name": "python",
   "nbconvert_exporter": "python",
   "pygments_lexer": "ipython3",
   "version": "3.4.3"
  }
 },
 "nbformat": 4,
 "nbformat_minor": 0
}
