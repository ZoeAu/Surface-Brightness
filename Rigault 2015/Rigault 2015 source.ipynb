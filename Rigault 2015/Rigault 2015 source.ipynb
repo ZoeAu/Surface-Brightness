{
 "cells": [
  {
   "cell_type": "code",
   "execution_count": null,
   "metadata": {
    "collapsed": false,
    "scrolled": true
   },
   "outputs": [],
   "source": [
    "import os\n",
    "import sys\n",
    "\n",
    "from astropy.coordinates import SkyCoord\n",
    "from astropy import units as u\n",
    "from astropy.table import Table, unique, vstack, join, Column\n",
    "\n",
    "sys.path.insert(0, '..')\n",
    "from surface_brightness import surface_brightness\n"
   ]
  },
  {
   "cell_type": "code",
   "execution_count": null,
   "metadata": {
    "collapsed": true,
    "scrolled": true
   },
   "outputs": [],
   "source": [
    "#Input / Output Information\n",
    "input_data_table = 'Rigault 2015 data table.csv'\n",
    "fits_directory = '/Volumes/Media RED/fits files/Rigault 15 Supernova' #The directory to look for .fits files in\n",
    "output_file_name = \"Rigault 2015\" #The output file name without an extension\n"
   ]
  },
  {
   "cell_type": "code",
   "execution_count": null,
   "metadata": {
    "collapsed": false,
    "scrolled": false
   },
   "outputs": [],
   "source": [
    "if os.path.exists(fits_directory) and os.listdir(fits_directory):\n",
    "    cord_dict = {} #for supernova coordinates\n",
    "    red_dict = {}#for supernova redshifts\n",
    "    \n",
    "    rigault_15_table = Table.read(input_data_table, format = 'csv')\n",
    "    for row in rigault_15_table:\n",
    "        red_dict[row['sn']] = row['z']\n",
    "        cord_dict[row['sn']] = SkyCoord(row['RA'] + ' ' + row['Dec'], unit = (u.hourangle, u.deg))\n",
    "    \n",
    "    brightness = surface_brightness(cord_dict, red_dict)\n",
    "    \n",
    "    print('Calculating NUV values using a 2kpc radius aperture\\n', flush = True)\n",
    "    nuv_2kpc = brightness.create_tables('NUV', fits_directory, 2, print_progress = True)\n",
    "    \n",
    "    print('\\nCalculating FUV values using a 2kpc radius aperture\\n', flush = True)\n",
    "    fuv_2kpc = brightness.create_tables('FUV', fits_directory, 2, print_progress = True)\n",
    "    \n",
    "    \n",
    "elif not os.path.exists(fits_directory):\n",
    "    print('Specified directory of .fits files does not exist')\n",
    "    \n",
    "else:\n",
    "    print('Specified directory of .fits files is empty')"
   ]
  },
  {
   "cell_type": "code",
   "execution_count": null,
   "metadata": {
    "collapsed": false,
    "scrolled": true
   },
   "outputs": [],
   "source": [
    "    nuv_2[0].keep_columns(['sn',\n",
    "                           'NUV 2kpc Luminosity',\n",
    "                           'NUV 2kpc Luminosity Error',\n",
    "                           'NUV 2kpc Surface Brightness',\n",
    "                           'NUV 2kpc Surface Brightness Error'])\n",
    "    \n",
    "    fuv_2[0].keep_columns(['sn',\n",
    "                           'FUV 2kpc Luminosity',\n",
    "                           'FUV 2kpc Luminosity Error',\n",
    "                           'FUV 2kpc Surface Brightness',\n",
    "                           'FUV 2kpc Surface Brightness Error'])\n",
    "    \n",
    "    merged_table = join(nuv_2[0], fuv_2[0], join_type = 'outer', keys = 'sn')"
   ]
  },
  {
   "cell_type": "code",
   "execution_count": null,
   "metadata": {
    "collapsed": false
   },
   "outputs": [],
   "source": [
    "nuv_2kpc[0]"
   ]
  },
  {
   "cell_type": "code",
   "execution_count": null,
   "metadata": {
    "collapsed": true
   },
   "outputs": [],
   "source": []
  }
 ],
 "metadata": {
  "kernelspec": {
   "display_name": "Python 3",
   "language": "python",
   "name": "python3"
  },
  "language_info": {
   "codemirror_mode": {
    "name": "ipython",
    "version": 3
   },
   "file_extension": ".py",
   "mimetype": "text/x-python",
   "name": "python",
   "nbconvert_exporter": "python",
   "pygments_lexer": "ipython3",
   "version": "3.4.3"
  }
 },
 "nbformat": 4,
 "nbformat_minor": 0
}
