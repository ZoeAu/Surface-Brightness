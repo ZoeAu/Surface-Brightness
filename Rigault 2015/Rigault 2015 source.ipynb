{
 "cells": [
  {
   "cell_type": "code",
   "execution_count": 1,
   "metadata": {
    "collapsed": false,
    "scrolled": true
   },
   "outputs": [
    {
     "name": "stderr",
     "output_type": "stream",
     "text": [
      "/Users/Daniel/anaconda/lib/python3.4/site-packages/IPython/kernel/__init__.py:13: ShimWarning: The `IPython.kernel` package has been deprecated. You should import from ipykernel or jupyter_client instead.\n",
      "  \"You should import from ipykernel or jupyter_client instead.\", ShimWarning)\n"
     ]
    }
   ],
   "source": [
    "import os\n",
    "import sys\n",
    "\n",
    "from astropy.coordinates import SkyCoord\n",
    "from astropy import units as u\n",
    "from astropy.table import Table, unique, vstack, join, Column\n",
    "\n",
    "sys.path.insert(0, '..')\n",
    "from surface_brightness import surface_brightness\n"
   ]
  },
  {
   "cell_type": "code",
   "execution_count": 2,
   "metadata": {
    "collapsed": true,
    "scrolled": true
   },
   "outputs": [],
   "source": [
    "#Input / Output Information\n",
    "input_data_table = 'Rigault 2015 data table.csv'\n",
    "fits_directory = '/Volumes/Media RED/fits files/Rigault 15 Supernova' #The directory to look for .fits files in\n",
    "output_file_name = \"Rigault 2015\" #The output file name without an extension\n"
   ]
  },
  {
   "cell_type": "code",
   "execution_count": null,
   "metadata": {
    "collapsed": false,
    "scrolled": false
   },
   "outputs": [],
   "source": [
    "if os.path.exists(fits_directory) and os.listdir(fits_directory):\n",
    "    cord_dict = {} #for supernova coordinates\n",
    "    red_dict = {}#for supernova redshifts\n",
    "    \n",
    "    rigault_15_table = Table.read(input_data_table, format = 'csv')\n",
    "    for row in rigault_15_table:\n",
    "        red_dict[row['sn']] = row['z']\n",
    "        cord_dict[row['sn']] = SkyCoord(row['RA'] + ' ' + row['Dec'], unit = (u.hourangle, u.deg))\n",
    "    \n",
    "    brightness = surface_brightness(cord_dict, red_dict)\n",
    "    \n",
    "    print('Calculating NUV values using a 2kpc radius aperture\\n', flush = True)\n",
    "    nuv_2kpc = brightness.create_tables('NUV', fits_directory, 2, print_progress = True)\n",
    "    \n",
    "    print('\\nCalculating FUV values using a 2kpc radius aperture\\n', flush = True)\n",
    "    fuv_2kpc = brightness.create_tables('FUV', fits_directory, 2, print_progress = True)\n",
    "    \n",
    "    #Create plots and save them to file\n",
    "    brightness.create_plots(nuv_2kpc[0], 'NUV', 2)\n",
    "    brightness.create_plots(fuv_2kpc[0], 'FUV', 2)\n",
    "    \n",
    "    #Create a table with the desired output information\n",
    "    #Add a column for AB Magnitude\n",
    "    print('Joining Tables\\n', flush = True)\n",
    "    NUV_AB = Column(name='NUV AB Magnitude', data = 2.5* np.log10(nuv_2kpc[0]['Flux'] / 2.06e-16 ) + 18.82)\n",
    "    nuv_2kpc[0].add_column(NUV_AB)\n",
    "    \n",
    "    FUV_AB = Column(name='FUV AB Magnitude', data = 2.5* np.log10(fuv_2kpc[0]['Flux'] / 1.40e-15) + 18.82)\n",
    "    fuv_2kpc[0].add_column(FUV_AB)\n",
    "                           \n",
    "    nuv_2kpc[0].remove_columns(['Flux', 'Flux Error'])\n",
    "    fuv_2kpc[0].remove_columns(['Flux', 'Flux Error']) \n",
    "    \n",
    "    #Merge the NUV and FUV tables\n",
    "    merged_table = join(nuv_2kpc[0], fuv_2kpc[0], join_type = 'outer', keys = ['sn'])\n",
    "    merged_table.rename_column('NUV 2kpc Exposure Time', 'NUV Exposure Time')\n",
    "    merged_table.rename_column('FUV 2kpc Exposure Time', 'FUV Exposure Time')\n",
    "    merged_table.rename_column('Redshift_1', 'Redshift')\n",
    "    merged_table.rename_column('Redshift Error_1', 'Redshift Error')\n",
    "    \n",
    "    for row in merged_table:\n",
    "        if str(row[\"Redshift\"]) == \"--\":\n",
    "            row[\"Redshift\"] = row[\"Redshift_2\"]\n",
    "            row[\"Redshift Error\"] = row[\"Redshift Error_2\"]\n",
    "    \n",
    "    merged_table.remove_columns([\"Redshift_2\", \"Redshift Error_2\"])\n",
    "    \n",
    "    #Rearrange the column order\n",
    "    final_table = merged_table['sn', 'Redshift', 'Redshift Error',\n",
    "                               'NUV Exposure Time',\n",
    "                               'NUV 2kpc Luminosity',\n",
    "                               'NUV 2kpc Luminosity Error',\n",
    "                               'NUV 2kpc Surface Brightness',\n",
    "                               'NUV 2kpc Surface Brightness Error',\n",
    "                               'NUV AB Magnitude',\n",
    "                               'FUV Exposure Time',\n",
    "                               'FUV 2kpc Luminosity',\n",
    "                               'FUV 2kpc Luminosity Error',\n",
    "                               'FUV 2kpc Surface Brightness',\n",
    "                               'FUV 2kpc Surface Brightness Error',\n",
    "                               'FUV AB Magnitude']\n",
    "    \n",
    "    final_table[\"NUV AB Magnitude\"].unit = u.dimensionless_unscaled\n",
    "    final_table[\"FUV AB Magnitude\"].unit = u.dimensionless_unscaled\n",
    "    \n",
    "    merged_log = vstack([nuv_2kpc[1], fuv_2kpc[1]])\n",
    "    merged_log.sort('File Path')\n",
    "    \n",
    "    #Write data to an output file\n",
    "        #The csv format does not have an 'overwrite' kwarg,\n",
    "        #but an existing file will be overwritten\n",
    "    final_table.write(output_file_name + '.fits', overwrite = True, format = 'fits')\n",
    "    final_table.write(output_file_name + '.csv', format = 'ascii.csv')\n",
    "    merged_log.write(output_file_name + ' log.csv', format = 'ascii.csv')\n",
    "    print('Finished')\n",
    "    \n",
    "elif not os.path.exists(fits_directory):\n",
    "    print('Specified directory of .fits files does not exist')\n",
    "    \n",
    "else:\n",
    "    print('Specified directory of .fits files is empty')"
   ]
  },
  {
   "cell_type": "code",
   "execution_count": null,
   "metadata": {
    "collapsed": true
   },
   "outputs": [],
   "source": []
  }
 ],
 "metadata": {
  "kernelspec": {
   "display_name": "Python 3",
   "language": "python",
   "name": "python3"
  },
  "language_info": {
   "codemirror_mode": {
    "name": "ipython",
    "version": 3
   },
   "file_extension": ".py",
   "mimetype": "text/x-python",
   "name": "python",
   "nbconvert_exporter": "python",
   "pygments_lexer": "ipython3",
   "version": "3.4.3"
  }
 },
 "nbformat": 4,
 "nbformat_minor": 0
}
