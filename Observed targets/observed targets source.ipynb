{
 "cells": [
  {
   "cell_type": "code",
   "execution_count": 1,
   "metadata": {
    "collapsed": false,
    "scrolled": true
   },
   "outputs": [
    {
     "name": "stderr",
     "output_type": "stream",
     "text": [
      "/Users/Daniel/anaconda/lib/python3.4/site-packages/IPython/kernel/__init__.py:13: ShimWarning: The `IPython.kernel` package has been deprecated. You should import from ipykernel or jupyter_client instead.\n",
      "  \"You should import from ipykernel or jupyter_client instead.\", ShimWarning)\n"
     ]
    }
   ],
   "source": [
    "import os\n",
    "\n",
    "from astropy.coordinates import SkyCoord\n",
    "from astropy import units as u\n",
    "from astropy.table import Table, unique, vstack, join, Column\n",
    "\n",
    "from sys import path\n",
    "path.insert(0, '..')\n",
    "from surface_brightness import surface_brightness\n"
   ]
  },
  {
   "cell_type": "code",
   "execution_count": 2,
   "metadata": {
    "collapsed": true,
    "scrolled": true
   },
   "outputs": [],
   "source": [
    "#Input / Output Information\n",
    "input_data_table = 'observed targets data table.csv'\n",
    "fits_directory = '/Users/Daniel/Downloads/Other Supernova/' #The directory to look for .fits files in\n",
    "output_file_name = \"observed targets\" #The output file name without an extension\n",
    "\n",
    "sn_col_name = 'Name'\n",
    "redshift_col_name = 'z'\n",
    "ra_col_name = 'RA'\n",
    "dec_col_name = 'Dec'"
   ]
  },
  {
   "cell_type": "code",
   "execution_count": 4,
   "metadata": {
    "collapsed": false,
    "scrolled": false
   },
   "outputs": [
    {
     "name": "stdout",
     "output_type": "stream",
     "text": [
      "Calculating NUV values using a 1kpc radius aperture\n",
      "\n",
      "Calculating FUV values using a 1kpc radius aperture\n",
      "\n",
      "Calculating NUV values using a 5kpc radius aperture\n",
      "\n",
      "Calculating FUV values using a 5kpc radius aperture\n",
      "\n",
      "Creating Plots\n",
      "\n",
      "Joining Tables\n",
      "\n"
     ]
    },
    {
     "name": "stderr",
     "output_type": "stream",
     "text": [
      "WARNING: UnitsWarning: The unit 'erg' has been deprecated in the FITS standard. Suggested: cm2 g s-2. [astropy.units.format.utils]\n",
      "WARNING:astropy:UnitsWarning: The unit 'erg' has been deprecated in the FITS standard. Suggested: cm2 g s-2.\n",
      "WARNING: UnitsWarning: The unit 'Angstrom' has been deprecated in the FITS standard. Suggested: nm (with data multiplied by 0.1). [astropy.units.format.utils]\n",
      "WARNING:astropy:UnitsWarning: The unit 'Angstrom' has been deprecated in the FITS standard. Suggested: nm (with data multiplied by 0.1).\n"
     ]
    },
    {
     "name": "stdout",
     "output_type": "stream",
     "text": [
      "Finished\n"
     ]
    }
   ],
   "source": [
    "if os.path.exists(fits_directory) and os.listdir(fits_directory):\n",
    "    cord_dict = {} #for supernova coordinates\n",
    "    red_dict = {}#for supernova redshifts\n",
    "    \n",
    "    observed_targets_table = Table.read(input_data_table, format = 'csv')\n",
    "    #Read in the input data table\n",
    "    for row in observed_targets_table:\n",
    "        red_dict[row[sn_col_name]] = row[redshift_col_name]\n",
    "        cord_dict[row[sn_col_name]] = SkyCoord(row[ra_col_name] + ' ' + row[dec_col_name], unit = (u.hourangle, u.deg))\n",
    "    \n",
    "    brightness = surface_brightness(cord_dict, red_dict)\n",
    "    \n",
    "    #Individual tables are generated for nuv and fuv using 1kpc and 5kpc apertures\n",
    "    print('Calculating NUV values using a 1kpc radius aperture\\n', flush = True)\n",
    "    nuv_1kpc = brightness.create_tables('NUV', fits_directory, 1)\n",
    "    \n",
    "    print('Calculating FUV values using a 1kpc radius aperture\\n', flush = True)\n",
    "    fuv_1kpc = brightness.create_tables('FUV', fits_directory, 1)\n",
    "    \n",
    "    print('Calculating NUV values using a 5kpc radius aperture\\n', flush = True)\n",
    "    nuv_5kpc = brightness.create_tables('NUV', fits_directory, 5)\n",
    "    \n",
    "    print('Calculating FUV values using a 5kpc radius aperture\\n', flush = True)\n",
    "    fuv_5kpc = brightness.create_tables('FUV', fits_directory, 5)\n",
    "    \n",
    "    #Create plots and save them to file\n",
    "    print('Creating Plots\\n', flush = True)\n",
    "    brightness.create_plots(nuv_1kpc[0], 'NUV', 1)\n",
    "    brightness.create_plots(fuv_1kpc[0], 'FUV', 1)\n",
    "    \n",
    "    #Create a table with the desired output information\n",
    "    print('Joining Tables\\n', flush = True)\n",
    "    nuv_1kpc[0].keep_columns(['sn',\n",
    "                              'NUV 1kpc Luminosity',\n",
    "                              'NUV 1kpc Luminosity Error',\n",
    "                              'NUV 1kpc Surface Brightness',\n",
    "                              'NUV 1kpc Surface Brightness Error'])\n",
    "    \n",
    "    fuv_1kpc[0].keep_columns(['sn',\n",
    "                              'FUV 1kpc Luminosity',\n",
    "                              'FUV 1kpc Luminosity Error',\n",
    "                              'FUV 1kpc Surface Brightness',\n",
    "                              'FUV 1kpc Surface Brightness Error'])\n",
    "    \n",
    "    nuv_5kpc[0].remove_columns(['Flux',\n",
    "                                'Flux Error',\n",
    "                                'NUV 5kpc Luminosity',\n",
    "                                'NUV 5kpc Luminosity Error'])\n",
    "    \n",
    "    fuv_5kpc[0].remove_columns(['Flux',\n",
    "                                'Flux Error',\n",
    "                                'FUV 5kpc Luminosity',\n",
    "                                'FUV 5kpc Luminosity Error'])\n",
    "    \n",
    "    merged_nuv_table = join(nuv_1kpc[0], nuv_5kpc[0], join_type = 'outer', keys = ['sn'])\n",
    "    merged_fuv_table = join(fuv_1kpc[0], fuv_5kpc[0], join_type = 'outer', keys = ['sn'])\n",
    "    \n",
    "    merged_table = join(merged_nuv_table, merged_fuv_table, join_type = 'outer', keys = ['sn'])\n",
    "    merged_table.rename_column('NUV 5kpc Exposure Time', 'NUV Exposure Time')\n",
    "    merged_table.rename_column('FUV 5kpc Exposure Time', 'FUV Exposure Time')\n",
    "    merged_table.rename_column('Redshift_1', 'Redshift')\n",
    "    merged_table.rename_column('Redshift Error_1', 'Redshift Error')\n",
    "    \n",
    "    for row in merged_table:\n",
    "        if str(row[\"Redshift\"]) == \"--\":\n",
    "            row[\"Redshift\"] = row[\"Redshift_2\"]\n",
    "            row[\"Redshift Error\"] = row[\"Redshift Error_2\"]\n",
    "    \n",
    "    merged_table.remove_columns([\"Redshift_2\", \"Redshift Error_2\"])\n",
    "    \n",
    "    #Rearrange the column order\n",
    "    final_table = merged_table['sn', 'Redshift', 'Redshift Error',\n",
    "                               'NUV Exposure Time',\n",
    "                               'NUV 1kpc Luminosity',\n",
    "                               'NUV 1kpc Luminosity Error',\n",
    "                               'NUV 1kpc Surface Brightness',\n",
    "                               'NUV 1kpc Surface Brightness Error',\n",
    "                               'NUV 5kpc Surface Brightness',\n",
    "                               'NUV 5kpc Surface Brightness Error',\n",
    "                               'FUV Exposure Time',\n",
    "                               'FUV 1kpc Luminosity',\n",
    "                               'FUV 1kpc Luminosity Error',\n",
    "                               'FUV 1kpc Surface Brightness',\n",
    "                               'FUV 1kpc Surface Brightness Error',\n",
    "                               'FUV 5kpc Surface Brightness',\n",
    "                               'FUV 5kpc Surface Brightness Error']\n",
    "    \n",
    "    final_table.sort('sn')\n",
    "    \n",
    "    merged_log = vstack([nuv_5kpc[1], fuv_5kpc[1]])\n",
    "    merged_log.sort('File Path')\n",
    "    \n",
    "    #Write data to an output file\n",
    "        #The csv format does not have an 'overwrite' kwarg,\n",
    "        #but an existing file will be overwritten\n",
    "    final_table.write(output_file_name + '.fits', overwrite = True, format = 'fits')\n",
    "    final_table.write(output_file_name + '.csv', format = 'ascii.csv')\n",
    "    merged_log.write(output_file_name + ' log.csv', format = 'ascii.csv')\n",
    "    print('Finished')\n",
    "    \n",
    "elif not os.path.exists(fits_directory):\n",
    "    print('Specified directory of .fits files does not exist')\n",
    "    \n",
    "else:\n",
    "    print('Specified directory of .fits files is empty')\n"
   ]
  },
  {
   "cell_type": "code",
   "execution_count": null,
   "metadata": {
    "collapsed": true
   },
   "outputs": [],
   "source": []
  }
 ],
 "metadata": {
  "kernelspec": {
   "display_name": "Python 3",
   "language": "python",
   "name": "python3"
  },
  "language_info": {
   "codemirror_mode": {
    "name": "ipython",
    "version": 3
   },
   "file_extension": ".py",
   "mimetype": "text/x-python",
   "name": "python",
   "nbconvert_exporter": "python",
   "pygments_lexer": "ipython3",
   "version": "3.4.3"
  }
 },
 "nbformat": 4,
 "nbformat_minor": 0
}
