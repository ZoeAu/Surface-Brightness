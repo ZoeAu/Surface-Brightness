{
 "cells": [
  {
   "cell_type": "code",
   "execution_count": null,
   "metadata": {
    "collapsed": true
   },
   "outputs": [],
   "source": [
    "from astropy.io import fits #For opening fits files\n",
    "from astropy.coordinates import SkyCoord #For creating sky coordinates\n",
    "from astropy import units as u #For assigning units to numbers\n"
   ]
  },
  {
   "cell_type": "code",
   "execution_count": null,
   "metadata": {
    "collapsed": true
   },
   "outputs": [],
   "source": [
    "#Our first step is to open a .fits file\n",
    "with fits.open('this_is_the_file_path_of_a_fits_file') int_file:\n",
    "    \n",
    "    #Next we create an aperture that will be used to perform photometry.\n",
    "    #This requires knowing the radius and coordinate of the desired aperture.\n",
    "    #Lets find the radius first and use a 1kpc radius as an example.\n",
    "    \n",
    "    #The radius needs to be in angular units, so we convert it from kpc to arcmin\n",
    "    z = .08 #This is the redshift of your object\n",
    "    r = 1 * u.kpc / cosmo.kpc_comoving_per_arcmin(z)\n",
    "     \n",
    "    #Now we need the coordinates of the supernova\n",
    "    #I'm using randum numbers as place holders\n",
    "    cordinate = SkyCoord('99:88:77.66 +55:44:33.22', unit = (u.hourangle, u.deg))\n",
    "    \n",
    "    #We can now create an aperture\n",
    "    aperture = SkyCircularAperture(cordinate, r)\n",
    "                        \n",
    "    #Performing photometry returns a table\n",
    "    int_phot_table = aperture_photometry(int_file[0], aperture)\n",
    "                        \n",
    "    int_phot_table"
   ]
  }
 ],
 "metadata": {
  "kernelspec": {
   "display_name": "Python 3",
   "language": "python",
   "name": "python3"
  },
  "language_info": {
   "codemirror_mode": {
    "name": "ipython",
    "version": 3
   },
   "file_extension": ".py",
   "mimetype": "text/x-python",
   "name": "python",
   "nbconvert_exporter": "python",
   "pygments_lexer": "ipython3",
   "version": "3.4.3"
  }
 },
 "nbformat": 4,
 "nbformat_minor": 0
}
